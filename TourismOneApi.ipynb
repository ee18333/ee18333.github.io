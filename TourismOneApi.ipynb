{
  "nbformat": 4,
  "nbformat_minor": 0,
  "metadata": {
    "colab": {
      "name": "TourismOneApi.ipynb",
      "provenance": [],
      "collapsed_sections": [],
      "authorship_tag": "ABX9TyM8CxuygGmbsrZK4eyEmEVf",
      "include_colab_link": true
    },
    "kernelspec": {
      "name": "python3",
      "display_name": "Python 3"
    },
    "language_info": {
      "name": "python"
    }
  },
  "cells": [
    {
      "cell_type": "markdown",
      "metadata": {
        "id": "view-in-github",
        "colab_type": "text"
      },
      "source": [
        "<a href=\"https://colab.research.google.com/github/ee18333/ee18333.github.io/blob/main/TourismOneApi.ipynb\" target=\"_parent\"><img src=\"https://colab.research.google.com/assets/colab-badge.svg\" alt=\"Open In Colab\"/></a>"
      ]
    },
    {
      "cell_type": "markdown",
      "source": [
        "inspired by Oliver Krishnamma"
      ],
      "metadata": {
        "id": "4MsC6dsSF1mN"
      }
    },
    {
      "cell_type": "code",
      "execution_count": null,
      "metadata": {
        "id": "pUb279nBqxpL"
      },
      "outputs": [],
      "source": [
        "import pandas as pd, requests"
      ]
    },
    {
      "cell_type": "code",
      "source": [
        "url = \"https://api.worldbank.org/v2/country/{}/indicator/ST.INT.DPRT?date=1997:2019&format=json\""
      ],
      "metadata": {
        "id": "0sU3GgEcqy3r"
      },
      "execution_count": null,
      "outputs": []
    },
    {
      "cell_type": "code",
      "source": [
        "scrapedCountries = [\"DEU\",\"GBR\",\"ITA\",\"RUS\",\"JPN\",\"CHN\"]"
      ],
      "metadata": {
        "id": "UHcDnU54q0k5"
      },
      "execution_count": null,
      "outputs": []
    },
    {
      "cell_type": "code",
      "source": [
        "unclean={}\n",
        "for i in scrapedCountries:\n",
        "  iterationUrl = url.format(i)\n",
        "  unclean[i] = requests.get(iterationUrl).json()\n",
        "unclean"
      ],
      "metadata": {
        "id": "4sx7VM61xNiJ"
      },
      "execution_count": null,
      "outputs": []
    },
    {
      "cell_type": "code",
      "source": [
        "years = [0, 1, 2, 3, 4, 5,6,7,8,9,10,11,12,13,14,15,16,17,18,19,20,21,22]"
      ],
      "metadata": {
        "id": "ygVkcobIq4u6"
      },
      "execution_count": null,
      "outputs": []
    },
    {
      "cell_type": "code",
      "source": [
        "Tourism=[]\n",
        "for i in scrapedCountries:\n",
        "  for j in years:\n",
        "   departure=unclean[i][1][j]['value']\n",
        "   Tourism.append(departure)\n",
        "Tourism"
      ],
      "metadata": {
        "id": "m1PHQ57UsGXd"
      },
      "execution_count": null,
      "outputs": []
    },
    {
      "cell_type": "code",
      "source": [
        "dataCountries=[]\n",
        "for i in scrapedCountries:\n",
        "  for j in years:\n",
        "   names=unclean[i][1][j]['country']['value']\n",
        "   dataCountries.append(names)\n",
        "dataCountries"
      ],
      "metadata": {
        "id": "JM2aOsNls_G_"
      },
      "execution_count": null,
      "outputs": []
    },
    {
      "cell_type": "code",
      "source": [
        "myDates=[]\n",
        "for i in scrapedCountries:\n",
        "  for j in years:\n",
        "   dates=unclean[i][1][j]['date']\n",
        "   myDates.append(dates)\n",
        "myDates"
      ],
      "metadata": {
        "id": "5BsYtb_MxbZX"
      },
      "execution_count": null,
      "outputs": []
    },
    {
      "cell_type": "code",
      "source": [
        "tourismDF = pd.DataFrame(Tourism, dataCountries)\n",
        "tourismDF\n",
        "yearsDF = pd.DataFrame(myDates)\n",
        "yearsDF\n",
        "bestDF = tourismDF.reset_index().join(yearsDF, rsuffix='lol')\n",
        "bestDF"
      ],
      "metadata": {
        "id": "LBIp2b_4xu7V"
      },
      "execution_count": null,
      "outputs": []
    },
    {
      "cell_type": "code",
      "source": [
        "bestDF.rename(columns={'index': 'Country_name'}, inplace=True)\n",
        "bestDF.rename(columns={'0lol': 'Year'}, inplace=True)\n",
        "bestDF.rename(columns={'0':'Tourism'}, inplace=True)\n",
        "bestDF"
      ],
      "metadata": {
        "id": "IB1GEWQMx6xE"
      },
      "execution_count": null,
      "outputs": []
    },
    {
      "cell_type": "code",
      "source": [
        "bestDF.to_csv('Tourism.csv')"
      ],
      "metadata": {
        "id": "wKMLLiAkyB78"
      },
      "execution_count": null,
      "outputs": []
    },
    {
      "cell_type": "code",
      "source": [
        ""
      ],
      "metadata": {
        "id": "JqHWNCLbyHNU"
      },
      "execution_count": null,
      "outputs": []
    }
  ]
}