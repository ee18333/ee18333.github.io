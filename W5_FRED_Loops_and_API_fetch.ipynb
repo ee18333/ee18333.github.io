{
  "nbformat": 4,
  "nbformat_minor": 0,
  "metadata": {
    "colab": {
      "name": "W5 FRED Loops and API fetch.ipynb",
      "provenance": [],
      "collapsed_sections": [],
      "authorship_tag": "ABX9TyOYjtuNQVggxU04JMtxLIcG",
      "include_colab_link": true
    },
    "kernelspec": {
      "name": "python3",
      "display_name": "Python 3"
    },
    "language_info": {
      "name": "python"
    }
  },
  "cells": [
    {
      "cell_type": "markdown",
      "metadata": {
        "id": "view-in-github",
        "colab_type": "text"
      },
      "source": [
        "<a href=\"https://colab.research.google.com/github/ee18333/ee18333.github.io/blob/main/W5_FRED_Loops_and_API_fetch.ipynb\" target=\"_parent\"><img src=\"https://colab.research.google.com/assets/colab-badge.svg\" alt=\"Open In Colab\"/></a>"
      ]
    },
    {
      "cell_type": "code",
      "execution_count": null,
      "metadata": {
        "id": "mZI27nO2U4RW"
      },
      "outputs": [],
      "source": [
        "# /// Import tools that we will need:\n",
        "\n",
        "# // Opening web sites and web scraping: \n",
        "import requests\n",
        "\n",
        "# // OS. Sometimes need this for finding working directory:\n",
        "import os\n",
        "\n",
        "# // JSON. This helps us make JSON look prettier and easier to read\n",
        "import json\n",
        "\n",
        "# /// Files.  This is part of Collab - allows you to upload and download files\n",
        "from google.colab import files"
      ]
    },
    {
      "cell_type": "code",
      "source": [
        "url_base = \"https://api.stlouisfed.org/fred/series/observations?series_id={}&api_key=c5a919fe33b7d4f27c2ca19dfb3ad3d9&file_type=json\""
      ],
      "metadata": {
        "id": "o8pVgZ_vU48-"
      },
      "execution_count": null,
      "outputs": []
    },
    {
      "cell_type": "code",
      "source": [
        "file_base = \"data_FRED-{}.json\"\n",
        "\n",
        "# // Pick the series that I want:\n",
        "fredSeries = ['MKTGDPHKA646NWDB', 'SMPOPNETMHKG', 'DEBTTLHKA188A', 'SLUEM1524ZSHKG']"
      ],
      "metadata": {
        "id": "5QU1cesZU8WY"
      },
      "execution_count": null,
      "outputs": []
    },
    {
      "cell_type": "code",
      "source": [
        "# // Begin a loop, dealing with each series, one by one:\n",
        "for i in fredSeries:  \n",
        "\n",
        "   # // Print the iteration of the loop we are on:\n",
        "   # // This is not necessary but can be helpful. \n",
        "   print(i) \n",
        "  \n",
        "   # // Build the URL for this iteration of the loop, and check what we are getting:\n",
        "   URL = url_base.format(i)\n",
        "   print(URL)\n",
        "   \n",
        "   # // Request the html from the URL:\n",
        "   data = requests.get(URL).json()\n",
        "   print(data)\n",
        "\n",
        "   # // Set the filename, and check what we are getting:\n",
        "   fileName = file_base.format(i)\n",
        "   print(fileName)\n",
        "\n",
        "   # /// Save the file:\n",
        "   with open(fileName, 'w', encoding='utf-8') as f:\n",
        "     json.dump(data, f, ensure_ascii=False, indent=4)\n",
        "\n",
        "   # /// Download the file to local machine:\n",
        "   files.download(fileName)"
      ],
      "metadata": {
        "colab": {
          "base_uri": "https://localhost:8080/",
          "height": 314
        },
        "id": "ZboXwk1yC1Vr",
        "outputId": "3eadaee8-0ce7-46dd-8adc-b3a058f426d4"
      },
      "execution_count": null,
      "outputs": [
        {
          "output_type": "stream",
          "name": "stdout",
          "text": [
            "MKTGDPHKA646NWDB\n",
            "https://api.stlouisfed.org/fred/series/observations?series_id=MKTGDPHKA646NWDB&api_key=c5a919fe33b7d4f27c2ca19dfb3ad3d9&file_type=json\n",
            "{'realtime_start': '2022-01-11', 'realtime_end': '2022-01-11', 'observation_start': '1600-01-01', 'observation_end': '9999-12-31', 'units': 'lin', 'output_type': 1, 'file_type': 'json', 'order_by': 'observation_date', 'sort_order': 'asc', 'count': 61, 'offset': 0, 'limit': 100000, 'observations': [{'realtime_start': '2022-01-11', 'realtime_end': '2022-01-11', 'date': '1960-01-01', 'value': '1320796651.69457'}, {'realtime_start': '2022-01-11', 'realtime_end': '2022-01-11', 'date': '1961-01-01', 'value': '1383681651.13776'}, {'realtime_start': '2022-01-11', 'realtime_end': '2022-01-11', 'date': '1962-01-01', 'value': '1612346412.26475'}, {'realtime_start': '2022-01-11', 'realtime_end': '2022-01-11', 'date': '1963-01-01', 'value': '1935298266.45384'}, {'realtime_start': '2022-01-11', 'realtime_end': '2022-01-11', 'date': '1964-01-01', 'value': '2206466461.26434'}, {'realtime_start': '2022-01-11', 'realtime_end': '2022-01-11', 'date': '1965-01-01', 'value': '2435078534.03141'}, {'realtime_start': '2022-01-11', 'realtime_end': '2022-01-11', 'date': '1966-01-01', 'value': '2489845016.64894'}, {'realtime_start': '2022-01-11', 'realtime_end': '2022-01-11', 'date': '1967-01-01', 'value': '2692474989.12571'}, {'realtime_start': '2022-01-11', 'realtime_end': '2022-01-11', 'date': '1968-01-01', 'value': '2716964388.42418'}, {'realtime_start': '2022-01-11', 'realtime_end': '2022-01-11', 'date': '1969-01-01', 'value': '3189740055.13982'}, {'realtime_start': '2022-01-11', 'realtime_end': '2022-01-11', 'date': '1970-01-01', 'value': '3800766535.62088'}, {'realtime_start': '2022-01-11', 'realtime_end': '2022-01-11', 'date': '1971-01-01', 'value': '4476001946.01486'}, {'realtime_start': '2022-01-11', 'realtime_end': '2022-01-11', 'date': '1972-01-01', 'value': '5710107420.14394'}, {'realtime_start': '2022-01-11', 'realtime_end': '2022-01-11', 'date': '1973-01-01', 'value': '8030117555.62033'}, {'realtime_start': '2022-01-11', 'realtime_end': '2022-01-11', 'date': '1974-01-01', 'value': '9388663645.7588'}, {'realtime_start': '2022-01-11', 'realtime_end': '2022-01-11', 'date': '1975-01-01', 'value': '10048022369.9141'}, {'realtime_start': '2022-01-11', 'realtime_end': '2022-01-11', 'date': '1976-01-01', 'value': '12876366008.8077'}, {'realtime_start': '2022-01-11', 'realtime_end': '2022-01-11', 'date': '1977-01-01', 'value': '15719433719.4337'}, {'realtime_start': '2022-01-11', 'realtime_end': '2022-01-11', 'date': '1978-01-01', 'value': '18315007365.9713'}, {'realtime_start': '2022-01-11', 'realtime_end': '2022-01-11', 'date': '1979-01-01', 'value': '22526035940.5921'}, {'realtime_start': '2022-01-11', 'realtime_end': '2022-01-11', 'date': '1980-01-01', 'value': '28861759209.0191'}, {'realtime_start': '2022-01-11', 'realtime_end': '2022-01-11', 'date': '1981-01-01', 'value': '31055409443.043'}, {'realtime_start': '2022-01-11', 'realtime_end': '2022-01-11', 'date': '1982-01-01', 'value': '32291306281.8168'}, {'realtime_start': '2022-01-11', 'realtime_end': '2022-01-11', 'date': '1983-01-01', 'value': '29907091339.5364'}, {'realtime_start': '2022-01-11', 'realtime_end': '2022-01-11', 'date': '1984-01-01', 'value': '33511383985.6741'}, {'realtime_start': '2022-01-11', 'realtime_end': '2022-01-11', 'date': '1985-01-01', 'value': '35699543050.7778'}, {'realtime_start': '2022-01-11', 'realtime_end': '2022-01-11', 'date': '1986-01-01', 'value': '41075570591.9291'}, {'realtime_start': '2022-01-11', 'realtime_end': '2022-01-11', 'date': '1987-01-01', 'value': '50622571586.1149'}, {'realtime_start': '2022-01-11', 'realtime_end': '2022-01-11', 'date': '1988-01-01', 'value': '59707404560.5944'}, {'realtime_start': '2022-01-11', 'realtime_end': '2022-01-11', 'date': '1989-01-01', 'value': '68790369107.2962'}, {'realtime_start': '2022-01-11', 'realtime_end': '2022-01-11', 'date': '1990-01-01', 'value': '76928290841.8701'}, {'realtime_start': '2022-01-11', 'realtime_end': '2022-01-11', 'date': '1991-01-01', 'value': '88959620135.8864'}, {'realtime_start': '2022-01-11', 'realtime_end': '2022-01-11', 'date': '1992-01-01', 'value': '104272278634.731'}, {'realtime_start': '2022-01-11', 'realtime_end': '2022-01-11', 'date': '1993-01-01', 'value': '120353947980.764'}, {'realtime_start': '2022-01-11', 'realtime_end': '2022-01-11', 'date': '1994-01-01', 'value': '135812069768.646'}, {'realtime_start': '2022-01-11', 'realtime_end': '2022-01-11', 'date': '1995-01-01', 'value': '144652912433.103'}, {'realtime_start': '2022-01-11', 'realtime_end': '2022-01-11', 'date': '1996-01-01', 'value': '159717233621.659'}, {'realtime_start': '2022-01-11', 'realtime_end': '2022-01-11', 'date': '1997-01-01', 'value': '177352785419.977'}, {'realtime_start': '2022-01-11', 'realtime_end': '2022-01-11', 'date': '1998-01-01', 'value': '168886163221.567'}, {'realtime_start': '2022-01-11', 'realtime_end': '2022-01-11', 'date': '1999-01-01', 'value': '165768095391.557'}, {'realtime_start': '2022-01-11', 'realtime_end': '2022-01-11', 'date': '2000-01-01', 'value': '171668164082.555'}, {'realtime_start': '2022-01-11', 'realtime_end': '2022-01-11', 'date': '2001-01-01', 'value': '169403241524.337'}, {'realtime_start': '2022-01-11', 'realtime_end': '2022-01-11', 'date': '2002-01-01', 'value': '166349228737.386'}, {'realtime_start': '2022-01-11', 'realtime_end': '2022-01-11', 'date': '2003-01-01', 'value': '161384522525.299'}, {'realtime_start': '2022-01-11', 'realtime_end': '2022-01-11', 'date': '2004-01-01', 'value': '169099768875.193'}, {'realtime_start': '2022-01-11', 'realtime_end': '2022-01-11', 'date': '2005-01-01', 'value': '181570082162.19'}, {'realtime_start': '2022-01-11', 'realtime_end': '2022-01-11', 'date': '2006-01-01', 'value': '193536265094.364'}, {'realtime_start': '2022-01-11', 'realtime_end': '2022-01-11', 'date': '2007-01-01', 'value': '211597405593.868'}, {'realtime_start': '2022-01-11', 'realtime_end': '2022-01-11', 'date': '2008-01-01', 'value': '219279678430.164'}, {'realtime_start': '2022-01-11', 'realtime_end': '2022-01-11', 'date': '2009-01-01', 'value': '214046415026.187'}, {'realtime_start': '2022-01-11', 'realtime_end': '2022-01-11', 'date': '2010-01-01', 'value': '228637697575.04'}, {'realtime_start': '2022-01-11', 'realtime_end': '2022-01-11', 'date': '2011-01-01', 'value': '248513617677.287'}, {'realtime_start': '2022-01-11', 'realtime_end': '2022-01-11', 'date': '2012-01-01', 'value': '262629441493.476'}, {'realtime_start': '2022-01-11', 'realtime_end': '2022-01-11', 'date': '2013-01-01', 'value': '275696879834.966'}, {'realtime_start': '2022-01-11', 'realtime_end': '2022-01-11', 'date': '2014-01-01', 'value': '291459356985.337'}, {'realtime_start': '2022-01-11', 'realtime_end': '2022-01-11', 'date': '2015-01-01', 'value': '309383627028.561'}, {'realtime_start': '2022-01-11', 'realtime_end': '2022-01-11', 'date': '2016-01-01', 'value': '320837638328.846'}, {'realtime_start': '2022-01-11', 'realtime_end': '2022-01-11', 'date': '2017-01-01', 'value': '341244161576.759'}, {'realtime_start': '2022-01-11', 'realtime_end': '2022-01-11', 'date': '2018-01-01', 'value': '361691522612.745'}, {'realtime_start': '2022-01-11', 'realtime_end': '2022-01-11', 'date': '2019-01-01', 'value': '363016373358.517'}, {'realtime_start': '2022-01-11', 'realtime_end': '2022-01-11', 'date': '2020-01-01', 'value': '346585881503.635'}]}\n",
            "data_FRED-MKTGDPHKA646NWDB.json\n"
          ]
        },
        {
          "output_type": "display_data",
          "data": {
            "application/javascript": [
              "\n",
              "    async function download(id, filename, size) {\n",
              "      if (!google.colab.kernel.accessAllowed) {\n",
              "        return;\n",
              "      }\n",
              "      const div = document.createElement('div');\n",
              "      const label = document.createElement('label');\n",
              "      label.textContent = `Downloading \"${filename}\": `;\n",
              "      div.appendChild(label);\n",
              "      const progress = document.createElement('progress');\n",
              "      progress.max = size;\n",
              "      div.appendChild(progress);\n",
              "      document.body.appendChild(div);\n",
              "\n",
              "      const buffers = [];\n",
              "      let downloaded = 0;\n",
              "\n",
              "      const channel = await google.colab.kernel.comms.open(id);\n",
              "      // Send a message to notify the kernel that we're ready.\n",
              "      channel.send({})\n",
              "\n",
              "      for await (const message of channel.messages) {\n",
              "        // Send a message to notify the kernel that we're ready.\n",
              "        channel.send({})\n",
              "        if (message.buffers) {\n",
              "          for (const buffer of message.buffers) {\n",
              "            buffers.push(buffer);\n",
              "            downloaded += buffer.byteLength;\n",
              "            progress.value = downloaded;\n",
              "          }\n",
              "        }\n",
              "      }\n",
              "      const blob = new Blob(buffers, {type: 'application/binary'});\n",
              "      const a = document.createElement('a');\n",
              "      a.href = window.URL.createObjectURL(blob);\n",
              "      a.download = filename;\n",
              "      div.appendChild(a);\n",
              "      a.click();\n",
              "      div.remove();\n",
              "    }\n",
              "  "
            ],
            "text/plain": [
              "<IPython.core.display.Javascript object>"
            ]
          },
          "metadata": {}
        },
        {
          "output_type": "display_data",
          "data": {
            "application/javascript": [
              "download(\"download_00a1b0f4-b206-4d98-956d-a2cc2e847adc\", \"data_FRED-MKTGDPHKA646NWDB.json\", 11396)"
            ],
            "text/plain": [
              "<IPython.core.display.Javascript object>"
            ]
          },
          "metadata": {}
        },
        {
          "output_type": "stream",
          "name": "stdout",
          "text": [
            "SMPOPNETMHKG\n",
            "https://api.stlouisfed.org/fred/series/observations?series_id=SMPOPNETMHKG&api_key=c5a919fe33b7d4f27c2ca19dfb3ad3d9&file_type=json\n",
            "{'realtime_start': '2022-01-11', 'realtime_end': '2022-01-11', 'observation_start': '1600-01-01', 'observation_end': '9999-12-31', 'units': 'lin', 'output_type': 1, 'file_type': 'json', 'order_by': 'observation_date', 'sort_order': 'asc', 'count': 14, 'offset': 0, 'limit': 100000, 'observations': [{'realtime_start': '2022-01-11', 'realtime_end': '2022-01-11', 'date': '1952-01-01', 'value': '.'}, {'realtime_start': '2022-01-11', 'realtime_end': '2022-01-11', 'date': '1957-01-01', 'value': '.'}, {'realtime_start': '2022-01-11', 'realtime_end': '2022-01-11', 'date': '1962-01-01', 'value': '-27385'}, {'realtime_start': '2022-01-11', 'realtime_end': '2022-01-11', 'date': '1967-01-01', 'value': '71590'}, {'realtime_start': '2022-01-11', 'realtime_end': '2022-01-11', 'date': '1972-01-01', 'value': '73970'}, {'realtime_start': '2022-01-11', 'realtime_end': '2022-01-11', 'date': '1977-01-01', 'value': '390487.0'}, {'realtime_start': '2022-01-11', 'realtime_end': '2022-01-11', 'date': '1982-01-01', 'value': '160605'}, {'realtime_start': '2022-01-11', 'realtime_end': '2022-01-11', 'date': '1987-01-01', 'value': '221262'}, {'realtime_start': '2022-01-11', 'realtime_end': '2022-01-11', 'date': '1992-01-01', 'value': '156486'}, {'realtime_start': '2022-01-11', 'realtime_end': '2022-01-11', 'date': '1997-01-01', 'value': '375683'}, {'realtime_start': '2022-01-11', 'realtime_end': '2022-01-11', 'date': '2002-01-01', 'value': '64797'}, {'realtime_start': '2022-01-11', 'realtime_end': '2022-01-11', 'date': '2007-01-01', 'value': '89747'}, {'realtime_start': '2022-01-11', 'realtime_end': '2022-01-11', 'date': '2012-01-01', 'value': '74892'}, {'realtime_start': '2022-01-11', 'realtime_end': '2022-01-11', 'date': '2017-01-01', 'value': '146542.0'}]}\n",
            "data_FRED-SMPOPNETMHKG.json\n"
          ]
        },
        {
          "output_type": "display_data",
          "data": {
            "application/javascript": [
              "\n",
              "    async function download(id, filename, size) {\n",
              "      if (!google.colab.kernel.accessAllowed) {\n",
              "        return;\n",
              "      }\n",
              "      const div = document.createElement('div');\n",
              "      const label = document.createElement('label');\n",
              "      label.textContent = `Downloading \"${filename}\": `;\n",
              "      div.appendChild(label);\n",
              "      const progress = document.createElement('progress');\n",
              "      progress.max = size;\n",
              "      div.appendChild(progress);\n",
              "      document.body.appendChild(div);\n",
              "\n",
              "      const buffers = [];\n",
              "      let downloaded = 0;\n",
              "\n",
              "      const channel = await google.colab.kernel.comms.open(id);\n",
              "      // Send a message to notify the kernel that we're ready.\n",
              "      channel.send({})\n",
              "\n",
              "      for await (const message of channel.messages) {\n",
              "        // Send a message to notify the kernel that we're ready.\n",
              "        channel.send({})\n",
              "        if (message.buffers) {\n",
              "          for (const buffer of message.buffers) {\n",
              "            buffers.push(buffer);\n",
              "            downloaded += buffer.byteLength;\n",
              "            progress.value = downloaded;\n",
              "          }\n",
              "        }\n",
              "      }\n",
              "      const blob = new Blob(buffers, {type: 'application/binary'});\n",
              "      const a = document.createElement('a');\n",
              "      a.href = window.URL.createObjectURL(blob);\n",
              "      a.download = filename;\n",
              "      div.appendChild(a);\n",
              "      a.click();\n",
              "      div.remove();\n",
              "    }\n",
              "  "
            ],
            "text/plain": [
              "<IPython.core.display.Javascript object>"
            ]
          },
          "metadata": {}
        },
        {
          "output_type": "display_data",
          "data": {
            "application/javascript": [
              "download(\"download_fccc3aea-edec-411b-a953-38c98a2cb424\", \"data_FRED-SMPOPNETMHKG.json\", 2742)"
            ],
            "text/plain": [
              "<IPython.core.display.Javascript object>"
            ]
          },
          "metadata": {}
        },
        {
          "output_type": "stream",
          "name": "stdout",
          "text": [
            "DEBTTLHKA188A\n",
            "https://api.stlouisfed.org/fred/series/observations?series_id=DEBTTLHKA188A&api_key=c5a919fe33b7d4f27c2ca19dfb3ad3d9&file_type=json\n",
            "{'realtime_start': '2022-01-11', 'realtime_end': '2022-01-11', 'observation_start': '1600-01-01', 'observation_end': '9999-12-31', 'units': 'lin', 'output_type': 1, 'file_type': 'json', 'order_by': 'observation_date', 'sort_order': 'asc', 'count': 10, 'offset': 0, 'limit': 100000, 'observations': [{'realtime_start': '2022-01-11', 'realtime_end': '2022-01-11', 'date': '2002-01-01', 'value': '27.2354775128513'}, {'realtime_start': '2022-01-11', 'realtime_end': '2022-01-11', 'date': '2003-01-01', 'value': '29.2571065379985'}, {'realtime_start': '2022-01-11', 'realtime_end': '2022-01-11', 'date': '2004-01-01', 'value': '30.8097736765812'}, {'realtime_start': '2022-01-11', 'realtime_end': '2022-01-11', 'date': '2005-01-01', 'value': '31.5768795742587'}, {'realtime_start': '2022-01-11', 'realtime_end': '2022-01-11', 'date': '2006-01-01', 'value': '31.2812512101299'}, {'realtime_start': '2022-01-11', 'realtime_end': '2022-01-11', 'date': '2007-01-01', 'value': '30.1115972715532'}, {'realtime_start': '2022-01-11', 'realtime_end': '2022-01-11', 'date': '2008-01-01', 'value': '29.8903585388351'}, {'realtime_start': '2022-01-11', 'realtime_end': '2022-01-11', 'date': '2009-01-01', 'value': '33.2219761619291'}, {'realtime_start': '2022-01-11', 'realtime_end': '2022-01-11', 'date': '2010-01-01', 'value': '.'}, {'realtime_start': '2022-01-11', 'realtime_end': '2022-01-11', 'date': '2011-01-01', 'value': '.'}]}\n",
            "data_FRED-DEBTTLHKA188A.json\n"
          ]
        },
        {
          "output_type": "display_data",
          "data": {
            "application/javascript": [
              "\n",
              "    async function download(id, filename, size) {\n",
              "      if (!google.colab.kernel.accessAllowed) {\n",
              "        return;\n",
              "      }\n",
              "      const div = document.createElement('div');\n",
              "      const label = document.createElement('label');\n",
              "      label.textContent = `Downloading \"${filename}\": `;\n",
              "      div.appendChild(label);\n",
              "      const progress = document.createElement('progress');\n",
              "      progress.max = size;\n",
              "      div.appendChild(progress);\n",
              "      document.body.appendChild(div);\n",
              "\n",
              "      const buffers = [];\n",
              "      let downloaded = 0;\n",
              "\n",
              "      const channel = await google.colab.kernel.comms.open(id);\n",
              "      // Send a message to notify the kernel that we're ready.\n",
              "      channel.send({})\n",
              "\n",
              "      for await (const message of channel.messages) {\n",
              "        // Send a message to notify the kernel that we're ready.\n",
              "        channel.send({})\n",
              "        if (message.buffers) {\n",
              "          for (const buffer of message.buffers) {\n",
              "            buffers.push(buffer);\n",
              "            downloaded += buffer.byteLength;\n",
              "            progress.value = downloaded;\n",
              "          }\n",
              "        }\n",
              "      }\n",
              "      const blob = new Blob(buffers, {type: 'application/binary'});\n",
              "      const a = document.createElement('a');\n",
              "      a.href = window.URL.createObjectURL(blob);\n",
              "      a.download = filename;\n",
              "      div.appendChild(a);\n",
              "      a.click();\n",
              "      div.remove();\n",
              "    }\n",
              "  "
            ],
            "text/plain": [
              "<IPython.core.display.Javascript object>"
            ]
          },
          "metadata": {}
        },
        {
          "output_type": "display_data",
          "data": {
            "application/javascript": [
              "download(\"download_34324b48-800d-4a0c-9258-efca03119787\", \"data_FRED-DEBTTLHKA188A.json\", 2139)"
            ],
            "text/plain": [
              "<IPython.core.display.Javascript object>"
            ]
          },
          "metadata": {}
        },
        {
          "output_type": "stream",
          "name": "stdout",
          "text": [
            "SLUEM1524ZSHKG\n",
            "https://api.stlouisfed.org/fred/series/observations?series_id=SLUEM1524ZSHKG&api_key=c5a919fe33b7d4f27c2ca19dfb3ad3d9&file_type=json\n",
            "{'realtime_start': '2022-01-11', 'realtime_end': '2022-01-11', 'observation_start': '1600-01-01', 'observation_end': '9999-12-31', 'units': 'lin', 'output_type': 1, 'file_type': 'json', 'order_by': 'observation_date', 'sort_order': 'asc', 'count': 30, 'offset': 0, 'limit': 100000, 'observations': [{'realtime_start': '2022-01-11', 'realtime_end': '2022-01-11', 'date': '1991-01-01', 'value': '4.17'}, {'realtime_start': '2022-01-11', 'realtime_end': '2022-01-11', 'date': '1992-01-01', 'value': '4.29'}, {'realtime_start': '2022-01-11', 'realtime_end': '2022-01-11', 'date': '1993-01-01', 'value': '4.47'}, {'realtime_start': '2022-01-11', 'realtime_end': '2022-01-11', 'date': '1994-01-01', 'value': '4.34'}, {'realtime_start': '2022-01-11', 'realtime_end': '2022-01-11', 'date': '1995-01-01', 'value': '6.87'}, {'realtime_start': '2022-01-11', 'realtime_end': '2022-01-11', 'date': '1996-01-01', 'value': '6.65'}, {'realtime_start': '2022-01-11', 'realtime_end': '2022-01-11', 'date': '1997-01-01', 'value': '5.21'}, {'realtime_start': '2022-01-11', 'realtime_end': '2022-01-11', 'date': '1998-01-01', 'value': '10.49'}, {'realtime_start': '2022-01-11', 'realtime_end': '2022-01-11', 'date': '1999-01-01', 'value': '13.38'}, {'realtime_start': '2022-01-11', 'realtime_end': '2022-01-11', 'date': '2000-01-01', 'value': '11.1'}, {'realtime_start': '2022-01-11', 'realtime_end': '2022-01-11', 'date': '2001-01-01', 'value': '11.25'}, {'realtime_start': '2022-01-11', 'realtime_end': '2022-01-11', 'date': '2002-01-01', 'value': '14.87'}, {'realtime_start': '2022-01-11', 'realtime_end': '2022-01-11', 'date': '2003-01-01', 'value': '14.89'}, {'realtime_start': '2022-01-11', 'realtime_end': '2022-01-11', 'date': '2004-01-01', 'value': '12.12'}, {'realtime_start': '2022-01-11', 'realtime_end': '2022-01-11', 'date': '2005-01-01', 'value': '10.73'}, {'realtime_start': '2022-01-11', 'realtime_end': '2022-01-11', 'date': '2006-01-01', 'value': '10.42'}, {'realtime_start': '2022-01-11', 'realtime_end': '2022-01-11', 'date': '2007-01-01', 'value': '8.99'}, {'realtime_start': '2022-01-11', 'realtime_end': '2022-01-11', 'date': '2008-01-01', 'value': '8.53'}, {'realtime_start': '2022-01-11', 'realtime_end': '2022-01-11', 'date': '2009-01-01', 'value': '12.54'}, {'realtime_start': '2022-01-11', 'realtime_end': '2022-01-11', 'date': '2010-01-01', 'value': '12.18'}, {'realtime_start': '2022-01-11', 'realtime_end': '2022-01-11', 'date': '2011-01-01', 'value': '9.33'}, {'realtime_start': '2022-01-11', 'realtime_end': '2022-01-11', 'date': '2012-01-01', 'value': '9.29'}, {'realtime_start': '2022-01-11', 'realtime_end': '2022-01-11', 'date': '2013-01-01', 'value': '9.48'}, {'realtime_start': '2022-01-11', 'realtime_end': '2022-01-11', 'date': '2014-01-01', 'value': '9.23'}, {'realtime_start': '2022-01-11', 'realtime_end': '2022-01-11', 'date': '2015-01-01', 'value': '10.48'}, {'realtime_start': '2022-01-11', 'realtime_end': '2022-01-11', 'date': '2016-01-01', 'value': '9.75'}, {'realtime_start': '2022-01-11', 'realtime_end': '2022-01-11', 'date': '2017-01-01', 'value': '8.66'}, {'realtime_start': '2022-01-11', 'realtime_end': '2022-01-11', 'date': '2018-01-01', 'value': '8.57'}, {'realtime_start': '2022-01-11', 'realtime_end': '2022-01-11', 'date': '2019-01-01', 'value': '8.57'}, {'realtime_start': '2022-01-11', 'realtime_end': '2022-01-11', 'date': '2020-01-01', 'value': '.'}]}\n",
            "data_FRED-SLUEM1524ZSHKG.json\n"
          ]
        },
        {
          "output_type": "display_data",
          "data": {
            "application/javascript": [
              "\n",
              "    async function download(id, filename, size) {\n",
              "      if (!google.colab.kernel.accessAllowed) {\n",
              "        return;\n",
              "      }\n",
              "      const div = document.createElement('div');\n",
              "      const label = document.createElement('label');\n",
              "      label.textContent = `Downloading \"${filename}\": `;\n",
              "      div.appendChild(label);\n",
              "      const progress = document.createElement('progress');\n",
              "      progress.max = size;\n",
              "      div.appendChild(progress);\n",
              "      document.body.appendChild(div);\n",
              "\n",
              "      const buffers = [];\n",
              "      let downloaded = 0;\n",
              "\n",
              "      const channel = await google.colab.kernel.comms.open(id);\n",
              "      // Send a message to notify the kernel that we're ready.\n",
              "      channel.send({})\n",
              "\n",
              "      for await (const message of channel.messages) {\n",
              "        // Send a message to notify the kernel that we're ready.\n",
              "        channel.send({})\n",
              "        if (message.buffers) {\n",
              "          for (const buffer of message.buffers) {\n",
              "            buffers.push(buffer);\n",
              "            downloaded += buffer.byteLength;\n",
              "            progress.value = downloaded;\n",
              "          }\n",
              "        }\n",
              "      }\n",
              "      const blob = new Blob(buffers, {type: 'application/binary'});\n",
              "      const a = document.createElement('a');\n",
              "      a.href = window.URL.createObjectURL(blob);\n",
              "      a.download = filename;\n",
              "      div.appendChild(a);\n",
              "      a.click();\n",
              "      div.remove();\n",
              "    }\n",
              "  "
            ],
            "text/plain": [
              "<IPython.core.display.Javascript object>"
            ]
          },
          "metadata": {}
        },
        {
          "output_type": "display_data",
          "data": {
            "application/javascript": [
              "download(\"download_8d2ae75d-ac13-4475-935a-07138a63b38f\", \"data_FRED-SLUEM1524ZSHKG.json\", 5437)"
            ],
            "text/plain": [
              "<IPython.core.display.Javascript object>"
            ]
          },
          "metadata": {}
        }
      ]
    }
  ]
}