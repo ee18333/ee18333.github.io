{
  "nbformat": 4,
  "nbformat_minor": 0,
  "metadata": {
    "colab": {
      "name": "Film gross world.ipynb",
      "provenance": [],
      "collapsed_sections": [],
      "authorship_tag": "ABX9TyNDGGNVPpk92biedoC24Bo8",
      "include_colab_link": true
    },
    "kernelspec": {
      "name": "python3",
      "display_name": "Python 3"
    },
    "language_info": {
      "name": "python"
    }
  },
  "cells": [
    {
      "cell_type": "markdown",
      "metadata": {
        "id": "view-in-github",
        "colab_type": "text"
      },
      "source": [
        "<a href=\"https://colab.research.google.com/github/ee18333/ee18333.github.io/blob/main/Film_gross_world.ipynb\" target=\"_parent\"><img src=\"https://colab.research.google.com/assets/colab-badge.svg\" alt=\"Open In Colab\"/></a>"
      ]
    },
    {
      "cell_type": "code",
      "execution_count": null,
      "metadata": {
        "id": "5dvTRvDIxLxl"
      },
      "outputs": [],
      "source": [
        "import numpy as np\n",
        "import pandas as pd\n",
        "import requests\n",
        "from bs4 import BeautifulSoup\n",
        "import os"
      ]
    },
    {
      "cell_type": "code",
      "source": [
        "URL = \"https://en.wikipedia.org/wiki/List_of_highest-grossing_films\"\n",
        "html = requests.get(URL)\n",
        "soup = BeautifulSoup(html.content, 'html.parser')"
      ],
      "metadata": {
        "id": "5d01AiSdxPFN"
      },
      "execution_count": null,
      "outputs": []
    },
    {
      "cell_type": "code",
      "source": [
        "tables=pd.read_html('https://en.wikipedia.org/wiki/List_of_highest-grossing_films')"
      ],
      "metadata": {
        "id": "ijdiEJ9XxUYT"
      },
      "execution_count": null,
      "outputs": []
    },
    {
      "cell_type": "code",
      "source": [
        "df=tables[0]"
      ],
      "metadata": {
        "id": "fHRhgeEKxYVb"
      },
      "execution_count": null,
      "outputs": []
    },
    {
      "cell_type": "code",
      "source": [
        "df"
      ],
      "metadata": {
        "id": "PTXUj0rzxbNS"
      },
      "execution_count": null,
      "outputs": []
    },
    {
      "cell_type": "code",
      "source": [
        "df = df.drop('Rank', 1)"
      ],
      "metadata": {
        "id": "cvDwggzRxeh6"
      },
      "execution_count": null,
      "outputs": []
    },
    {
      "cell_type": "code",
      "source": [
        "df = df.drop('Peak', 1)"
      ],
      "metadata": {
        "id": "oH_HYg1Oxm6i"
      },
      "execution_count": null,
      "outputs": []
    },
    {
      "cell_type": "code",
      "source": [
        "df = df.drop('Year', 1)"
      ],
      "metadata": {
        "id": "a_y1fh9Dxo3K"
      },
      "execution_count": null,
      "outputs": []
    },
    {
      "cell_type": "code",
      "source": [
        "df = df.drop('Reference(s)', 1)"
      ],
      "metadata": {
        "id": "5tEHPoVoxq0M"
      },
      "execution_count": null,
      "outputs": []
    },
    {
      "cell_type": "code",
      "source": [
        "df['Worldwide gross']=df['Worldwide gross'].str.replace(\"$\",\"\")"
      ],
      "metadata": {
        "id": "eqrjVMYPxs4s"
      },
      "execution_count": null,
      "outputs": []
    },
    {
      "cell_type": "code",
      "source": [
        "df['Worldwide gross']=df['Worldwide gross'].str.replace(\"F8\",\"\")"
      ],
      "metadata": {
        "id": "CVXUGBGbM8K1"
      },
      "execution_count": null,
      "outputs": []
    },
    {
      "cell_type": "code",
      "source": [
        "df['Worldwide gross']=df['Worldwide gross'].str.replace(\"F\",\"\")"
      ],
      "metadata": {
        "id": "ubybHOw6NLEF"
      },
      "execution_count": null,
      "outputs": []
    },
    {
      "cell_type": "code",
      "source": [
        "df"
      ],
      "metadata": {
        "id": "E_6CYFXlNP17"
      },
      "execution_count": null,
      "outputs": []
    },
    {
      "cell_type": "code",
      "source": [
        "df.to_csv('Film gross world.csv')"
      ],
      "metadata": {
        "id": "oTBP2t2pxteq"
      },
      "execution_count": null,
      "outputs": []
    }
  ]
}
