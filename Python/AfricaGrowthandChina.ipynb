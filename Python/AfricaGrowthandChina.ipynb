{
  "# Inspired by Taha Adamaly\n",
  "nbformat": 4,
  "nbformat_minor": 0,
  "metadata": {
    "colab": {
      "name": "AfricaGrowthandChina.ipynb",
      "provenance": [],
      "authorship_tag": "ABX9TyOzTzfE6O0IJAybA/omgacN",
      "include_colab_link": true
    },
    "kernelspec": {
      "name": "python3",
      "display_name": "Python 3"
    },
    "language_info": {
      "name": "python"
    }
  },
  "cells": [
    {
      "cell_type": "markdown",
      "metadata": {
        "id": "view-in-github",
        "colab_type": "text"
      },
      "source": [
        "<a href=\"https://colab.research.google.com/github/ee18333/ee18333.github.io/blob/main/AfricaGrowthandChina.ipynb\" target=\"_parent\"><img src=\"https://colab.research.google.com/assets/colab-badge.svg\" alt=\"Open In Colab\"/></a>"
      ]
    },
    {
      "cell_type": "code",
      "execution_count": 1,
      "metadata": {
        "id": "cevTQ1F7R-Jj"
      },
      "outputs": [],
      "source": [
        "import pandas as pd\n",
        "import numpy as np\n",
        "import matplotlib.pyplot as plt\n",
        "from sklearn.linear_model import LinearRegression\n",
        "from sklearn.pipeline import make_pipeline\n",
        "from sklearn.preprocessing import PolynomialFeatures\n",
        "from scipy import stats\n",
        "from scipy.stats import linregress"
      ]
    },
    {
      "cell_type": "code",
      "source": [
        "Africa=pd.read_csv('AfricaGrowthandChina.csv')"
      ],
      "metadata": {
        "id": "sDcQvSprTUGW"
      },
      "execution_count": 2,
      "outputs": []
    },
    {
      "cell_type": "code",
      "source": [
        "Africa.head(5)"
      ],
      "metadata": {
        "colab": {
          "base_uri": "https://localhost:8080/",
          "height": 203
        },
        "id": "I2l4JbArlNVp",
        "outputId": "7b80478c-0d57-4438-8de0-91e97a7e8118"
      },
      "execution_count": null,
      "outputs": [
        {
          "output_type": "execute_result",
          "data": {
            "text/html": [
              "\n",
              "  <div id=\"df-0ae8cd58-9fc6-40b2-931a-00428e3982a3\">\n",
              "    <div class=\"colab-df-container\">\n",
              "      <div>\n",
              "<style scoped>\n",
              "    .dataframe tbody tr th:only-of-type {\n",
              "        vertical-align: middle;\n",
              "    }\n",
              "\n",
              "    .dataframe tbody tr th {\n",
              "        vertical-align: top;\n",
              "    }\n",
              "\n",
              "    .dataframe thead th {\n",
              "        text-align: right;\n",
              "    }\n",
              "</style>\n",
              "<table border=\"1\" class=\"dataframe\">\n",
              "  <thead>\n",
              "    <tr style=\"text-align: right;\">\n",
              "      <th></th>\n",
              "      <th>Date</th>\n",
              "      <th>Turnover for completed projects</th>\n",
              "      <th>GDP Per Capita</th>\n",
              "    </tr>\n",
              "  </thead>\n",
              "  <tbody>\n",
              "    <tr>\n",
              "      <th>0</th>\n",
              "      <td>2001</td>\n",
              "      <td>152406</td>\n",
              "      <td>594.222955</td>\n",
              "    </tr>\n",
              "    <tr>\n",
              "      <th>1</th>\n",
              "      <td>2002</td>\n",
              "      <td>181357</td>\n",
              "      <td>629.226046</td>\n",
              "    </tr>\n",
              "    <tr>\n",
              "      <th>2</th>\n",
              "      <td>2003</td>\n",
              "      <td>260125</td>\n",
              "      <td>772.492801</td>\n",
              "    </tr>\n",
              "    <tr>\n",
              "      <th>3</th>\n",
              "      <td>2004</td>\n",
              "      <td>381310</td>\n",
              "      <td>935.430789</td>\n",
              "    </tr>\n",
              "    <tr>\n",
              "      <th>4</th>\n",
              "      <td>2005</td>\n",
              "      <td>609222</td>\n",
              "      <td>1081.827075</td>\n",
              "    </tr>\n",
              "  </tbody>\n",
              "</table>\n",
              "</div>\n",
              "      <button class=\"colab-df-convert\" onclick=\"convertToInteractive('df-0ae8cd58-9fc6-40b2-931a-00428e3982a3')\"\n",
              "              title=\"Convert this dataframe to an interactive table.\"\n",
              "              style=\"display:none;\">\n",
              "        \n",
              "  <svg xmlns=\"http://www.w3.org/2000/svg\" height=\"24px\"viewBox=\"0 0 24 24\"\n",
              "       width=\"24px\">\n",
              "    <path d=\"M0 0h24v24H0V0z\" fill=\"none\"/>\n",
              "    <path d=\"M18.56 5.44l.94 2.06.94-2.06 2.06-.94-2.06-.94-.94-2.06-.94 2.06-2.06.94zm-11 1L8.5 8.5l.94-2.06 2.06-.94-2.06-.94L8.5 2.5l-.94 2.06-2.06.94zm10 10l.94 2.06.94-2.06 2.06-.94-2.06-.94-.94-2.06-.94 2.06-2.06.94z\"/><path d=\"M17.41 7.96l-1.37-1.37c-.4-.4-.92-.59-1.43-.59-.52 0-1.04.2-1.43.59L10.3 9.45l-7.72 7.72c-.78.78-.78 2.05 0 2.83L4 21.41c.39.39.9.59 1.41.59.51 0 1.02-.2 1.41-.59l7.78-7.78 2.81-2.81c.8-.78.8-2.07 0-2.86zM5.41 20L4 18.59l7.72-7.72 1.47 1.35L5.41 20z\"/>\n",
              "  </svg>\n",
              "      </button>\n",
              "      \n",
              "  <style>\n",
              "    .colab-df-container {\n",
              "      display:flex;\n",
              "      flex-wrap:wrap;\n",
              "      gap: 12px;\n",
              "    }\n",
              "\n",
              "    .colab-df-convert {\n",
              "      background-color: #E8F0FE;\n",
              "      border: none;\n",
              "      border-radius: 50%;\n",
              "      cursor: pointer;\n",
              "      display: none;\n",
              "      fill: #1967D2;\n",
              "      height: 32px;\n",
              "      padding: 0 0 0 0;\n",
              "      width: 32px;\n",
              "    }\n",
              "\n",
              "    .colab-df-convert:hover {\n",
              "      background-color: #E2EBFA;\n",
              "      box-shadow: 0px 1px 2px rgba(60, 64, 67, 0.3), 0px 1px 3px 1px rgba(60, 64, 67, 0.15);\n",
              "      fill: #174EA6;\n",
              "    }\n",
              "\n",
              "    [theme=dark] .colab-df-convert {\n",
              "      background-color: #3B4455;\n",
              "      fill: #D2E3FC;\n",
              "    }\n",
              "\n",
              "    [theme=dark] .colab-df-convert:hover {\n",
              "      background-color: #434B5C;\n",
              "      box-shadow: 0px 1px 3px 1px rgba(0, 0, 0, 0.15);\n",
              "      filter: drop-shadow(0px 1px 2px rgba(0, 0, 0, 0.3));\n",
              "      fill: #FFFFFF;\n",
              "    }\n",
              "  </style>\n",
              "\n",
              "      <script>\n",
              "        const buttonEl =\n",
              "          document.querySelector('#df-0ae8cd58-9fc6-40b2-931a-00428e3982a3 button.colab-df-convert');\n",
              "        buttonEl.style.display =\n",
              "          google.colab.kernel.accessAllowed ? 'block' : 'none';\n",
              "\n",
              "        async function convertToInteractive(key) {\n",
              "          const element = document.querySelector('#df-0ae8cd58-9fc6-40b2-931a-00428e3982a3');\n",
              "          const dataTable =\n",
              "            await google.colab.kernel.invokeFunction('convertToInteractive',\n",
              "                                                     [key], {});\n",
              "          if (!dataTable) return;\n",
              "\n",
              "          const docLinkHtml = 'Like what you see? Visit the ' +\n",
              "            '<a target=\"_blank\" href=https://colab.research.google.com/notebooks/data_table.ipynb>data table notebook</a>'\n",
              "            + ' to learn more about interactive tables.';\n",
              "          element.innerHTML = '';\n",
              "          dataTable['output_type'] = 'display_data';\n",
              "          await google.colab.output.renderOutput(dataTable, element);\n",
              "          const docLink = document.createElement('div');\n",
              "          docLink.innerHTML = docLinkHtml;\n",
              "          element.appendChild(docLink);\n",
              "        }\n",
              "      </script>\n",
              "    </div>\n",
              "  </div>\n",
              "  "
            ],
            "text/plain": [
              "   Date  Turnover for completed projects  GDP Per Capita\n",
              "0  2001                           152406      594.222955\n",
              "1  2002                           181357      629.226046\n",
              "2  2003                           260125      772.492801\n",
              "3  2004                           381310      935.430789\n",
              "4  2005                           609222     1081.827075"
            ]
          },
          "metadata": {},
          "execution_count": 6
        }
      ]
    },
    {
      "cell_type": "code",
      "source": [
        "x = Africa['Turnover for completed projects']\n",
        "y = Africa['GDP Per Capita']"
      ],
      "metadata": {
        "id": "luMhBwRFlk-P"
      },
      "execution_count": 3,
      "outputs": []
    },
    {
      "cell_type": "code",
      "source": [
        "poly_model = make_pipeline(PolynomialFeatures(3), LinearRegression())\n",
        "poly_model.fit(x[:, np.newaxis], y)\n",
        "xfit = np.linspace(min(x), max(x), 2)\n",
        "yfit = poly_model.predict(xfit[:, np.newaxis])\n",
        "# Plotting data\n",
        "plt.scatter(x, y)\n",
        "plt.plot(xfit, yfit,color='plum')\n",
        "plt.xlabel('Turnover of completed projects by China in millions')\n",
        "plt.ylabel('GDP Per Capita')\n",
        "slope, intercept, r_value, p_value, std_err = stats.linregress(x,y)\n",
        "r_squared=\"{:.2f}\".format(r_value**2)\n",
        "plt.legend(('Best fit', 'R-squared={}'.format(r_squared)), fontsize=13, loc=\"lower right\", borderpad=0.3, edgecolor=\"black\")\n",
        "plt.title(\"Chinese investment and African GDP growth\", fontweight=\"bold\")\n",
        "print(slope, intercept, r_value, p_value, std_err)\n",
        "print(r_squared)\n",
        "plt.show()"
      ],
      "metadata": {
        "colab": {
          "base_uri": "https://localhost:8080/",
          "height": 385
        },
        "id": "ZmRjuyNqluTN",
        "outputId": "95c38f35-f7ce-4205-a042-bfac549de851"
      },
      "execution_count": 4,
      "outputs": [
        {
          "output_type": "stream",
          "name": "stderr",
          "text": [
            "/usr/local/lib/python3.7/dist-packages/ipykernel_launcher.py:2: FutureWarning: Support for multi-dimensional indexing (e.g. `obj[:, None]`) is deprecated and will be removed in a future version.  Convert to a numpy array before indexing instead.\n",
            "  \n"
          ]
        },
        {
          "output_type": "stream",
          "name": "stdout",
          "text": [
            "0.00017517735245332582 897.4093506370907 0.866409043128711 7.845937847079458e-07 2.379636789263205e-05\n",
            "0.75\n"
          ]
        },
        {
          "output_type": "display_data",
          "data": {
            "image/png": "iVBORw0KGgoAAAANSUhEUgAAAYsAAAEWCAYAAACXGLsWAAAABHNCSVQICAgIfAhkiAAAAAlwSFlzAAALEgAACxIB0t1+/AAAADh0RVh0U29mdHdhcmUAbWF0cGxvdGxpYiB2ZXJzaW9uMy4yLjIsIGh0dHA6Ly9tYXRwbG90bGliLm9yZy+WH4yJAAAgAElEQVR4nOzdeZgU1bn48e87PfvaPQwzwICAiIgomxMkURT3qMnV6/VGr8ZIolHzaDTmXhLNomYxmhDjkngTl/hDE6OJhkvI4kKMRk2CCgyrgqCgzIiyTPesPVv3+/ujTkMzzMbM9PQs7+d5+umuU6eqT/VSb1Wdc+qIqmKMMcZ0JiXZBTDGGDPwWbAwxhjTJQsWxhhjumTBwhhjTJcsWBhjjOmSBQtjjDFdsmDRCyIyQURURDpsfywit7k8i/uxaN0mIvNd+bYnuyxmPxFZ7L6Xe3q5nnEi8qKIhN36PtVJ3pdcngW9eU+TGN3Z3ySSBYsuiMgJIvJHEdkrIo0i8o6I/FRE0ru5ihXAvcDzCSxmb1Tgle+RZBcEBlbwEpEFriwvJbssHRGRw2M7EBH5QER8bbLcDMwHtuJ9z+92srqnXZ43E1LYbhARv4j8SEQ2u/9bSETWubRUl2dx3DaHReRDEfmriPxXm3XF51MRqRWRVSJycXK2rvviyn5bsssSk5rsAgxk7kf1a8AHrAXeACYA1wDf7s46VPVZ4NkEFbHXVHUr8JVkl8P02GfjXo8GTuPAA5Mj3fPdqtruAYGIpACo6s8SUsJuEpGRwL+ASUAt8CegGpgK/A/wXaAubpE1eAdj0/G2+zQRmauqN7RZ9Rrg78BRwFnAEyKyV1WX91G501S1pS/WNaCpqj3aeQDZwF5AgV8BKXHzJgHpeIFD3eMS4D0giPfHjOW9zc1f7KYXuOlXgbuBEFAJXNrmve/EOxqsB1YD58fNPwNY5eZVu/kXxM3/Al5wqwO2AN8AUjvYzvmuPNvddPw2fQF4P36bgMOBqPts0lzaeJd/r/tcUoGvAW+5Mr4JXBX3nrOBV4AaV8YNwJfiynLAwy3zkpu+B2+H0gA8AUwEXnTv8yxQGPc+J7rlgsAHeGdPI7q5nQs4uCzbO/gM/8d9zvVAk/vsL4ybv9gt/wvgj67s64CZbcq63q3jMeDJ2PZ28Tvd7PKtds+Pxc2LfWbxjwlx6T8EXgNa26QvcMunAje476cB+Ai4Je43WI73+2vB++1/J+69Y59fh7/zdrbl526ZPcBhbeZNxf2G4z7Pe+LmXxe3jXM7ybfepd3dQRnG4AXbeuAfwHdc/jXt/G6uwftdvejmTcf7De4Bdrvveoqbd6Fb5k9u+t/d9G/d9GVu+um4csc/FtON/U1C94n9vRMeLA/3Z4h9MVM6yBP/5b2HdxYScdOnuTy3xb7sNn8iBV53P0zF22nmuzxPuLRVwEN4f9IoMN/Nr8D7gz+GtwNcyf4/8dVu2ffdvHVu+tYOtmE+HQeL9zvYplfc9NlueqGb/l83fYeb3uTK/66bvtzNfzXuj/GQW9/DwBEuTfECyT24Pzr7d2QteMG72k2HgKXAdjf9fZf/GLwdd637PJ918/8GSFfbCcyJ+24qXFlu6eAzvB9Y4p5/576bRmCCm7847r3+D9joXr/i5vvx/vQKvAD8Ja4sHQYLV8bYb+dE97oWyHbzr3NlV7ct9wCFcZ9lFG+H9iu8s5JY+gK3/O1uusHl+R3wm7jf8XLgAbzfWZXLe3F3f+ftbE+ly3NnF//N2OcZHwQE2OnSb28vH96ZRewA8JsdrDv2GWx229xEx8FiL/BL9zmNjvsO/xS3vTuBAFDM/kAowI/ddIVb7y/c9HV4geBNN73CfW+X0I39TUL3icneKQ/UB3Bp3BeT2UGe+C/vYy7t7276f9z0bbQfLPYCmUAa3s5FgTJgpHsdAX7qfiixH/CTbh0fuT/dhcAUvLonn5sX2xE97Zb9tZv+sINtmE/HwaKjbfpim216w03PdX+EWjf9iCvDstgP3+V/jf1H9Me4z8DXXnna+RM/3GZH8Lqb/rKb/rObvr/Nn+0evB244u00urOdse/qpS5+KznA54Dv4R1Fx3Zal7Qpa6xsp7jpOjf9WTe9BRCXtoqug8V9se/aTb/npi9t53Nb0E7aYx18xgvafI//HpcndjaZApwDfMttc+w38GB3fucdbE+Lm3+Nmz4q7juKD2Kxz/OeNsvHflcPtcnX9rENGNnO+4+NyzPepd1Lx8Hi1Lhlv+bSXoxLK3dpV7npWAA4Cu/sOHZWOIH9ZzzHtin7bYeyv0nkw+osOrYr7vV4vC+2M+XuOeSec7vI/5aqNgKISD2Q75aZ4Oan4B1lxDvCPV8NLAKectN7Xd4n45b/jzbLlohIrqrW0X0dbdPv8HZU54vIUXhB7m1VXeGuO8fyfb6D8n8V+F+8swnBC3y34O10uvJWmzLFvpda95zjnie45+Pdo205NsRNH+p3t49r6LACL+i1NbLNdNv3iZW11D1vUbcHAN7Gu1zX0fumAhe5yaVxz9fjXdJ4vBvF/0cn84rY/zmsiCXq/mvzPweuame5ttvc0e+8PbvwLgONc9NVeDvrS115OiQiAhwWt554sTqLWrzP9WlVDbezmtj3EFbV99zrzir74z+/Ce75rbi0TcBMvP0HeMF4KnAq3nd7I972nQscjfc/jv9ddqbHv9mestZQHfsn3mklwLdilYAAIjJeRNLiM6tqa+xlN9ffGvc6fpnt7rkZ7+hHVFXw6gL+3c17RlUn4/2BLgRG4J0Kxy9/XmxZt/zhhxgoOtwmVa0G/gAUAA+65Mfc8x68670AM+LePwUvqACsVNUZeKfn8/GOOu90O8CIy9PRbzPSxXTMdvd8d5vPYZKq/qk729mNsoD3Jz8G7/uc5PLGdjDSJm9H71Ppnie7nR7sr5juyJl4lzYAfuWaU17vpk8XkVFdLA/eJZaO7GF/ZfK+YBtrkcT+QHUZXgOQn8eytFlPR7/z9vzRPV8hIqNUdZeqfoX9n09nrgVi2/zHNvP+rqpfUdVvq+qvOggUxL1PloiMda+P6ugNVTX+89veTv4p7jkWeP7unr+M939+Dq9+60a8383LcQcLnf72erC/6TU7s+iAqtaLyJfxdoKfBY4VkdfxjnzOAEoS9L67ReR3wGeA10RkOV4wmId3XfM2oNw1LX2f/UdhsSOMn+Edtf9KRP6P/TvpXXg75r7yGN4OYx7eD/ZXrvwqIvfjnZY/LyJ/xDvqmYv3Z1kA/NE18XwHL+Bk4B1VRYAdbv1jReRhvKPtH/agfA/iXS67XkQm4u38pgKfoPsHSbGyHCci/wuUq+pDbfLswbv2nwrcBeQBkw+xrH/Gq4M5AviriDQBs7pYJtYK6l28SxgxJ+EF4f+ie2dq7XLf4314jSMeF5Hf4wX1iHvvj/C+u+uBs9l/INMbt+IFwYnARhF5Fq++5PAO8p8sIj8HjgVOcGn3quqKDvJ3SlUrROTvwMl4v92V7A+KXfk13md1iogswwsGs/A+p6ddnliwOAr4SFXfEZF/sD/IvxS3vthv77MiUoB31rjt0Leq79iZRSdU9XG868t/wTvFvRxvh/MQ3o84Ua7Aaw0Vxdu5fgLvGmesCe5f8Y5aLmd/i58r3bxfuNfv4p11nIPXMuPhPi7jc8CH7vXfVfX9uHnfAr6Odxnhs3in3ZuB37r5L+EF3UvxTsHfAC5Sz3a8yr9qvM/hsp4UTlXXAqcDL+PtQC/G25HfcQireRn4Dd4O8kvAee28TwXekeJHeNu5Cu+s9FDKGgT+Da++6eN4lfu/7yi/iOTGleXLqnp+7IF3WQMObFLbU7fiHfVuw/stnYp3GQe839gmvB11Hl5Fd6+o6kfAx/Dql6qB/wQuwDuouB2vQj3eTLxLnUfg/ScudmcivXGpe5/xeGeKsYDb2VkYqvoB3r7iebzAVYZ3EHCKqla5PB+y/7LpP9o8w/5gAt4+5p94l8auB47r2eb0Hdl/1mOMMcObiBS4y6yx6Qfw6mZ+rao9OnAZKuwylDHG7Pd5ETkP7yh/It4ZWhSvdd2wZsHCGGP224xXUf51vIYarwDf62k9yFBil6GMMcZ0ySq4jTHGdGlIXoYqKirSCRMmJLsYxhgzqKxatWqPqrbtWAkM0WAxYcIEVq5cmexiGGPMoCIi73U0zy5DGWOM6ZIFC2OMMV2yYGGMMaZLFiyMMcZ0yYKFMcaYLg3J1lDGGDNULC2vZNFzm/kgFGaMP4uFZ03h/FmlXS/YxyxYGGNMN/X3jntpeSU3L1lPuMUb3qIyFObmJd4d6fs7YNhlKGOM6YbYjrsyFEbZv+NeWt6dsZl6ZtFzm/cFiphwS4RFz3U1cGffs2BhjDHdkIwd9weh9gf16yg9kSxYGGNMNyRjxz3Gn3VI6YlkwcIYY7ohGTvuhWdNISvNd0BaVpqPhWdN6WCJxLFgYYwx3ZCMHff5s0q544JjKfVnIUCpP4s7LjjWWkMZY8xAFdtB93cz1vNnlSYlOLRlwcIYY7ppoOy4k8EuQxljjOmSnVkYYwaEgdJT2bTPgoUxJukGUk9l0z67DGWMSbqB1FPZtM+ChTEm6QZST2XTvoQFCxF5RER2iciGuLSZIrJCRNaIyEoRmePSRUTuE5GtIrJORGbHLXO5iGxxj8sTVV5jzMGWlldywp1/Y+JNf+aEO/+WsPsgDaSeyqZ9iTyzWAx8sk3aj4DvqOpM4BY3DXA2MNk9rgJ+DiAihcCtwPHAHOBWEQkksMzGGKc/b5w3kHoqm/YlLFio6stAVdtkIN+9LgA+cK/PAx5TzwrALyKjgbOA5apapapBYDkHByBjTAL0Zz3CQOqpbNrX362hvgI8JyI/xgtUn3DppcCOuHwVLq2jdGNMgvV3PcJw7vA2GPR3BfeXgBtVdRxwI/DLvlqxiFzl6kFW7t69u69Wa8ywZfUIJl5/B4vLgSXu9VN49RAAlcC4uHxjXVpH6QdR1QdVtUxVy0aOHNmnhTZmOLJ6BBOvv4PFB8DJ7vWpwBb3ehnwOdcqai5Qrao7geeAM0Uk4Cq2z3RpxpgEs3oEEy9hdRYi8gQwHygSkQq8Vk1fBO4VkVSgEa/lE8BfgHOArUAD8HkAVa0Ske8Bb7h831XVtpXmxpgEsXoEEyOqmuwy9LmysjJduXJlsothjDGDioisUtWy9uZZD25jjDFdsmBhjDGmSxYsjDHGdMmChTHGDCHR1mhC1mvjWRhjzBDQtLeJqtVViE8YdeqoPl+/BQtjjBnEmqubCZYHqX+vnpSMFPzH+lFVRKRP38eChTHGDEItdS0E1wape6cO8Qn+GX78R/tJSU9M7YIFC2OMGUQi4QjB9UFqNtcgCAVTC/Af68eX6et64V6wYGGMMYNApDlC9YZqqt+qRiNK3hF5BGYESM3pn924BQtjjBnAoq1Rat6qIbQhRLQ5Ss6EHAIzA6QXpB+Qb2l5JYue28wHoTBj/FksPGtKn96qxYKFMcYMQBpRarbUEFoXIhKOkFWaReHsQjIKMw7KGxvVMDZYVWxUQ6DPAoYFC2OMGUA0qtRtqyO4JkhrXSuZxZmUnFxCZklmh8t0NqqhBQtjjBlCVJWGHQ1UlVfREmohvTCdUaePImtMVpfNYPtjVEMLFsYYk2ThnWGqVlfRtKeJtPw0ik8uJmd8Trf7SozxZ1HZTmDoy1ENLVgYY9qV6ApTA427GwmWBwnvDOPL8VH0iSLyJuUhKYfWoW7hWVMOqLOAvh/V0IKFMeYg/VFhOpw1B5upKq+iYUcDKZkpjPjYCPKm5JHi61mHuth3Yq2hjDH9qj8qTIejltoWgmuC1L1bh6QJgZkBCo4uICWt972uEz2qoQULY8xB+qPCdDhpbWgltC5EzZYaRISCaQX4j0l8r+u+ZMHCGHOQ/qgwHSh6WzfT2fKRpgihDSFq3qpBo0reZNfrOnvw7XoHX4mNMQnXHxWmA0Fv62Y6Wj4losxLz6F6QzXRlii5h+cSmBEgLT8tcRuTYBYsjDEH6Y8K04Ggt3UzbZdPE+GTufmMWxcm6Gsme1w2hbMKSQ+kd7KWwcGChTGmXYmuMB0Iels3E8uXApxZUMDlI0dSkpZGeX095/7nZDJHdtzrerBJ2LCqIvKIiOwSkQ1t0r8sIptEZKOI/Cgu/WYR2Soim0XkrLj0T7q0rSJyU6LKa4wZfjqqg+lu3cwYfxYn5eXxy8MP52tjxhBsbeV/3nuPn9TsHlKBAhJ7ZrEY+BnwWCxBRE4BzgNmqGqTiBS79KOBi4FpwBjgryJypFvsfuAMoAJ4Q0SWqeqbCSy3MWaY6GndjKoS/iDMA4dPJDusbG9q4paKCl6trSUrzccdnz420UXvdwkLFqr6sohMaJP8JeBOVW1yeXa59POAJ136NhHZCsxx87aq6rsAIvKky2vBwhjTaz2pm2nc1UjV6ioaP2okPzeVd8fBLa9vp7I2TGk363YGY+/4/q6zOBKYJyK3A43A/6jqG0ApsCIuX4VLA9jRJv349lYsIlcBVwEcdthhfVxsY8xQ1d26maaqJoLlQRoqGvBl+hhx/AjyJ+dzmE949dTu73MGa+/4/g4WqUAhMBf4GPA7ETm8L1asqg8CDwKUlZVpX6zTGGNaalqoWlNF/bZ6UtJTKJxdSP5R+T3udT1Ye8f3d7CoAJaoqgKvi0gUKAIqgXFx+ca6NDpJN8aYhGmtbyW4LkjtllrEJ/iP9VMwrQBfRu96XQ/W3vH9HSyWAqcAL7oK7HRgD7AM+I2I/ASvgnsy8DogwGQRmYgXJC4GLunnMhtjhpFIY4TQ+hA1m2pQlPwp+fin+0nN6pvd5WDtHZ+wYCEiTwDzgSIRqQBuBR4BHnHNaZuBy91ZxkYR+R1exXUrcK2qRtx6rgOeA3zAI6q6MVFlNsYMX9GWKNUbqwm9GUJb1et1PTNAWm7f9roerL3jxdtXDy1lZWW6cuXKZBfD9LHB2ILEDHzR1ig1m2sIrQ8RbYqSMz6HwMwA6f7E9boeqL9lEVmlqmXtzbMe3GZQGKwtSMzApVGldmstwbVBIg0RssZkUTirkIyijIS/92DsHW/BwgwKg7UFiRl4VJX67fUE1wRpqWkhY2QGxfOKyRo1sOsMks2ChRkUBmsLEjNwqCrhSm+s6+ZgM+mBdEpOLSF7bHa3x7ruawP1clR7LFiYQWGwtiAxA0P4wzBV5VU07WoiNS+V4nnF5EzMSVqQgMF3aTVhNxI0pi8tPGsKWWkHtm8fDC1ITHI17W1i5193svO5nbTWtlI0t4hx548j9/DcpAYK6PzS6kBkZxZmUBgu4yuYvtFc3UywPEj9e/WkZKRQeJzrdZ06cI6PB9ulVQsWZtAYjC1IhqNkXodvrWsluDZI7Tuu1/UMP/6j/aSkD5wgETPYLq1asDDG9JlkXYePhCME1wep2VyDIBRMLcB/rB9fZu9uzZFIg61zngULY0yf6e8mztHmKKGNIarfrEYjSt4ReQRmBEjNGfi7tsF2aXXgf6LGmEGjv67DR1uj1Gxyva6bo+RMcL2uCwbXWNeD6dKqBQtjTJ9J9HV4jSi1W2oJrgsSCUfIKnW9rkckvtf1cDfwan2MMYNWopo4a1SpfaeWHUt3sOe1PaTlpTH6k6MZffpoCxT9xM4sjDF9pq+vw6sqDTsaqCqvoiXUQnphOqNOG0VWaVbS+0kMN10GCxGZDNwBHA1kxtJVtU9GuDPGDC19dR0+vNO7NUfTnibS8tMoPrmYnPHJ7XU9nHXnzOL/4Y1FcTfewEWfxy5fGWMSpHF3I8HyIOGdYXw5Poo+UUTepDwkxYJEMnUnWGSp6gsiIqr6HnCbiKwCbklw2YwZUgbTTeOSoTnYTFV5FQ07GkjJSGHEx0aQNyWPFJ8dmw4E3QkWTSKSAmxxo9ZVArmJLZYxQ8tgu2lcf2qpbSG4Jkjdu3VImhCYGaDg6AJS0ixIDCTdCRY3ANnA9cD38C5FfS6RhTJmqLHxOA7W2tBKaF2Imi01iAgF0wrwHzOwe10PZ90JFhNU9Q2gDq++AhH5T+C1RBbMmKFksN00LpEiTRGqN1RT/VY1GlXyJucRmD44el0PZ935dm4GnupGmjGmA4PtpnGJEG2JUv1WNdUbqom2RMk9PJfAjABp+WnJLprphg6DhYicDZwDlIrIfXGz8oHWRBfMmKFksN00ri9pRKl5u4bQuhCRxgjZ47IJzAyQUWid6QaTzs4sPgBWAv8GrIpLrwVu7GrFIvII8Clgl6oe02befwM/Bkaq6h7xGk7fixecGoAFqrra5b0c+JZb9Puq+mh3Nsx0n7XSSbzBdtO4vqBRpe7dOoJrgrTWt5I5KpOSWSVkFmd2vbAZcERVO88gkqqqh3wmISIn4dVzPBYfLERkHPAwcBRwnAsW5wBfxgsWxwP3qurxIlKIF7DKAMULWseparCz9y4rK9OVK1ceapGHpbatdMA74r3jgmOH9I7MJI6qUv9+PcHyIC3VLWSMyCAwO0DWaOt1PdCJyCpVLWtvXmeXoX6nqp8BykXkoIiiqtM7e1NVfVlEJrQz627ga8Af4tLOwwsqCqwQEb+IjAbmA8tVtcqVaTnwSeCJzt7bdJ+10jF9RVUJf+CNdd28t5m0gjRK5peQfVi2BYkhoLPLUDe450/11ZuJyHlApaqubfPjKQV2xE1XuLSO0ttb91XAVQCHHXZYXxV5yLNWOqYvNO5qpGp1FY0fNZKak8rIE0Z641xbr+sho8Ngoao73fN7IjIKmIN3KegNVf3wUN9IRLKBbwBn9rCsnVLVB4EHwbsMlYj3GIqslY7pjaaqJoLlQRoqGvBl+hgxZwT5R+YjPgsSQ02XXSRF5ErgdeAC4EK8y0Rf6MF7TQImAmtFZDswFljtAlElMC4u71iX1lG66SOJuqW0Gdpaalr46OWPqPxjJY27GgnMDjDugnEUTC2wQDFEdaefxUJglqruBRCREcA/gUcO5Y1UdT1QHJt2AaPMVXAvA64TkSfxKrirVXWniDwH/EBEAm6xM/H6eJg+Mhxb6Ziea61vJbguSO2WWsQn+I/1UzCtAF+G9boe6roTLPbiNZeNqXVpnRKRJ/AqqItEpAK4VVV/2UH2v+C1hNqK13T28wCqWiUi3wPecPm+G6vsNn1nMA3taJIj0hghtD5EzeYaVJX8Kfn4p/tJzbJe18NFd5rOPgYci9d6SfFaLq1zD1T1Jwku4yGzprPG9I1oS5TqN6sJbQyhrbq/13We9boeinrUdDbOO+4RE2vymtfbghljBqZoJErNphpC60NEm6JkH5ZN4axC0v3pyS6aSZIug4Wqfqc/CmKMST6NKrVbawmuDRJpiJA1OovA7ACZRdbrerjrzrCqI/E60U3jwGFVT01guYwx/UhVqd9eT3BNkJaaFjJGZlB8YjFZo60JtfF05zLU48Bv8TrnXQNcDuxOZKGMMf1DVQlXul7XVc2k+dMoOaWE7HHW69ocqDvBYoSq/lJEblDVvwN/F5E3ulzKGDOghT8KE1wdpHFXI6m5qYycN5LcCdbr2rSvO8GixT3vFJFz8e5GW5i4IhljEqlpbxNV5VWEK8P4snwUzS0ib3KeBQnTqe4Ei++LSAHw38BP8caz6PIW5caYgaW5uplgeZD69+pJyUih8LhC8o/KJyXVxro2XetOa6g/uZfVeONvG2MGkda6VoJrg9S+43pdT/fjn+YnJd2ChOm+zm5RvgjYqqoPtEm/GpioqjclunDGmJ6LhCME1wep2VwDQP5R+QSODeDLsltzmEPX2ZnFqXhNZtt6CK/3tgULYwagaHOU0MYQ1W9WoxEl74g8AtMDpObarTlMz3X268nQdu4FoqpRsTZ1xgw40da4XtfNUXIm5BCYGSC9wHpdm97rLFiERWSyqm6JTxSRyYCNjGPMAKERpXZLLcF1QSLhCFmlWRTOKiRjREayi2aGkM6CxS3AMyLyfbyxr8EbC/tm4CuJLpgxpnMaVeq21RFcE6S1rpXM4kyKTy4mq8R6XZu+19lIec+IyPl441l82SVvAP7DjU1hjEkCVaVhRwNV5VW0hFpIL0xn1GmjyCrNsl7XJmE6rfFS1Q14t/cwxgwA4Z3erTmadjeRlp9G8UnF5EzIsSBhEs6aRwxiS8srbYS7YaJxTyPB1UHCO8P4sn0UfbyIvCOs17XpPxYsBqml5ZXcvGQ94ZYIAJWhMDcv8a4OWsAYOppDzVSVV9HwfgMpGSmM+NgI8qbkkeKzDnWmf3UaLETEB1yvqnf3U3lMNy16bvO+QBETbomw6LnNFiyGgJbaFoJrg9S9U4ekCYGZAQqOLiAlzYKESY6u6iwiIvJfgAWLAeaDUPutlztKN4NDa7iV0NoQNVtqEBEKphXgP8aPL9N6XZvk6s5lqH+IyM/wxrSojyWq6uqElcp0aYw/i8p2AsMYvzWbHIwiTRGqN1RT/VY1GlXyJrte1zl2pdgMDN35Jc50z9+NS1O824GYJFl41pQD6iwAstJ8LDxrShJLZQ5VtCVK9VvVVG+oJtoSJXdiLoGZAdLy05JdNGMO0J27ztqdZgegWL2EtYYanDSi1LxdQ2hdiEhjhOxx2QRmBsgotF7XZmDqzhjcJcAPgDGqeraIHA18XFV/2cVyj+ANxbpLVY9xaYuATwPNwDvA51U15ObdDFwBRPAq1Z9z6Z8E7gV8wMOqemePtnQIOn9WqQWHQUajSt27rtd1fSuZozIpmVVCZnFm1wsbk0TdaVqxGHgOGOOm36Z7t/tYDHyyTdpy4BhVne7WczOAC0AXA9PcMv8rIj7XGut+4GzgaOC/XF5jBhVVpe69OiqWVbD7H7vxZfoYdcYoRp852gKFGRS6U2dRpKq/c0f+qGqriES6WkhVXxaRCW3Sno+bXAFc6F6fBzypqk3ANhHZCsxx87aq6rsAIvKky/tmN8ptTNKpKuEPvF7XzXubSStIo2R+CdmHZVuvazOodCdY1IvICLxKbURkLt6oeb31BbwWVgCleMEjpsKlAexok358eysTkauAqwAOO+ywPiieMb3TuKuRqvIqGj9sJDUnlZEnjCT38FzrdW0Gpe4Ei68Cy4BJIvIPYCT7z5NMwxsAACAASURBVAh6RES+CbQCj/dmPfFU9UHgQYCysrKDxuEwpr80VTURLA/SUNGAL9PHiDkjyD8yH/FZkDCDV1c9uEfi1WucDxQDAmxW1ZaevqGILMCr+D4tbnClSmBcXLaxLo1O0o0ZUFpqWgiuCVK3rY6U9BQCswMUHGW9rs3Q0NkY3FfitYJ6B5gIXKWqy3rzZq5l09eAk1W1IW7WMuA3IvITvIr0ycDreMFpsohMxAsSFwOX9KYMxvS11vpWguuC1G6pRXyC/1g/BdMK8GVYr2szdHR2ZvEVYJqq7haRw/EuGXU7WIjIE8B8oEhEKoBb8Vo/ZQDLXeXeClW9RlU3isjv8CquW4FrVTXi1nMdXmssH/CIqm48xG00JiEijRFCG0LUbKpBVcmfko9/up/ULOt1bYYeaWeYbW+GyGpVnd3R9EBWVlamK1euTHYxzBAVbYlS/WY1oY0htEXJnZRLYEaAtDzrdW0GNxFZpapl7c3r7BBorIjc19G0ql7fVwU0ZjCIRqLUbKohtD5EtClK9mHZFM4sJD2QnuyiGZNwnQWLhW2mV7Wby5ghTqNK7dZagmuDRBoiZI3OIjA7QGaRdaYzw0dnY3A/2p8FMWagUVXqt9cTXBOkpaaFjKIMik8sJmu03dnXDD9WE2dMG6pKuNL1uq5qJs2fRskpJWSPs17XZviyYGFMnPBHYYKrgzTuaiQ1N5WR80aSO8F6XRvTnbvOFqnqnv4ojDHJ0rS3iaryKsKVYXxZPormFpF3RJ71ujbG6axT3qeBR4DYjQM/o6r/7LeSGdMPmqubCZYHqX+vnpSMFAqPKyT/qHxSUq3XtTHxOjuzuB2Yp6qbROR44EfAyf1TLGMSq7XO9bre6npdT/fjn+YnJd2ChDHt6SxYtKrqJgBVfU1E8vqpTMYkTCQcIbg+SM3mGgDyj8oncGwAX5bdmsOYznQWLIpF5KsdTavqTxJXrKFtaXmlDYfaz6LNUUIbQ1S/WY1GlLwj8ghMD5Caa208jOmOzv4pDwF5nUybHlhaXsnNS9YTbvHGj6oMhbl5yXoACxgJEG11va43eL2uc8bnEJgVIL3Ael0bcyg665T3nf4syHCx6LnN+wJFTLglwqLnNluw6EMaVWq3uF7X4QhZpVkUziokY0RGsotmzKDU1XgWpwDXAUe5pLeAn6nqSwku15D1QSh8SOnm0GhUqdteR7A8SGtdKxnFGRSfXExWifW6NqY3Oms6ey7wM+C77iHAbOAREblOVf/SP0UcWsb4s6hsJzCM8dvOrDdUlYYdDVSVV9ESaiE9kM6o00aRVZplva6N6QNd3UjwfFVdG5e2RkRWAj8FLFj0wMKzphxQZwGQleZj4VlTkliqwS2807s1R9PuJtLy0yg+qZicCTkWJIzpQ50Fi1FtAgUAqrpOREoSWKYhLVYvYa2heq9xTyPB1UHCO8P4sn0Ufdz1urZbcxjT5zoLFvU9nGe6cP6sUgsOvdAcaqaqvIqG9xu8Xtdlrte1zzrUGZMonQWLSSLS3jCqAhyeoPIY06GWuhaCa4LUvVuHpAqBmQEKji4gJc2ChDGJ1lmwOK+TeT/u64IY05HWcCuhdSFq3q5BRCg4ugD/MX58mdbr2pj+0lk/i7/3Z0GMaSvSFKF6YzXVb7le15Ndr+sc63VtTH/rrOnsecBYVb3fTb8GjHSzv6aqT/dD+cwwFG2JUr2pmuoN1USbo+ROzCUwM0Baflqyi2bMsNXZxd6vAfF1FhnAx4D5wJe6WrGIPCIiu0RkQ1xaoYgsF5Et7jng0kVE7hORrSKyTkRmxy1zucu/RUQuP8TtM4OIRpTqt6rZsWQHwdVBMoszKf10KcUnFVugMCbJOgsW6aq6I276VVXdq6rvAzndWPdi4JNt0m4CXlDVycALbhrgbGCye1wF/By84ALcChwPzAFujQUYM3RoVKndWsuO/9vB3tf3klaQxpizxzDqtFFkFNrtOYwZCDq7+HvATllVr4ubHEkXVPVlEZnQJvk8vDMTgEeBl4Cvu/THVFWBFSLiF5HRLu9yVa0CEJHleAHoia7e3wx8qkrD+67XdXUL6SPSGfXxUWSNsV7Xxgw0nQWL10Tki6r6UHyiiFwNvN7D9ytR1Z3u9YdArHNfKRB/FlPh0jpKP4iIXIV3VsJhhx3Ww+KZ/qCqhHd6Y1037W0irSCN4vnF5Bxmva6NGag6CxY3AktF5BJgtUs7Dq/u4vzevrGqqohob9cTt74HgQcBysrK+my9pm817m6kanUVjR82kpqTysgTRpJ7eK71ujZmgOus6ewu4BMiciowzSX/WVX/1ov3+0hERqvqTneZaZdLrwTGxeUb69Iq2X/ZKpb+Ui/e3yRJc9D1ut7RgC/Tx4g5I8g/Mh/xWZAwZjDossG6Cw69CRDxlgGXA3e65z/EpV8nIk/iVWZXu4DyHPCDuErtM4Gb+6gsph+01Lhe19vqSElLITArQMFU63VtzGCTsN5NIvIE3llBkYhU4LVquhP4nYhcAbwHfMZl/wtwDrAVaAA+D6CqVSLyPeANl++7scpuM7C11rcSXBekdkstkiL4j/FTcEwBvgzrdW3MYCReA6ShpaysTFeuXJnsYgxLkcYIoQ0hajbVoKrkT87HP91Parb1ujZmoBORVapa1t48+webPhFtiVL9ZjWhjSG0RcmdlEtgRoC0POtMZ8xQYMGil5aWVw7rsSmikSi1m2sJrg8SbYySfVg2hTMLSQ+kJ7toxpg+ZMGiF5aWVx4w6l1lKMzNS9YDDPmAoVGl9p1agmuDROojZI3OIjArQObIzGQXzRiTABYsemHRc5sPGB4VINwSYdFzm4dssFBV6t+rJ1gepKWmhYyiDIpPKCZrtI0hbsxQZsGiFz4IhQ8pfTBTVcKV3ljXzVXNpPnTKDmlhOxx2dbr2phhwIJFL4zxZ1HZTmAY4x9aR9mNH7le17saSc1NZeSJI8mdaL2ujRlOLFj0wsKzphxQZwGQleZj4VlTkliqvtO0t4mq8irClWF8WT6Kji8ib3Ke9bo2ZhiyYNELsXqJodYaqrm6meCaIPXb60lJT6HwuELyj8onJdV6XRszXFmw6KXzZ5UO+uAQ01rfSnBtkNqttYhP8E/345/mJyXdgoQxw50FC0OkMUJwXZCazTUA5B+VT+DYAL4suzWHMcZjwWIYizZHCW0MUf1mNRpR8iblEZgRIDXXfhbGmAPZXmEYirZGqdlUQ2hDiGhTlJzxOQRmBUgvsF7Xxpj2WbAYRjSq1G5xva7DEbJKsyicVUjGCBvn2hjTOQsWw4CqUretjmB5kNa6VjKKMyg+qZisUUOrP4gxJnEsWAxhqkrDjgaCa4I0B5tJD6Qz6rRRZJVmWa9rY8whsWAxRIU/DFO1uoqm3U2k5qVSfFIxORNyLEgYY3rEgsUQ07SniarVVYR3hvFl+yj6eBF5R+TZrTmMMb1iwWKIaA41U1VeRcP7DaRkpFBY5npd+6xDnTGm9yxYDHItdS0E1wSpe7cOSRUCMwIUHF1gva6NMX3KgsUg1RpuJbQuRM3bNQhCwdQC/Mf68WVar+uh5vnnn+f+++9n586dRKPRZBfHDFIpKSmMHj2aa6+9ljPPPPOQl7dgMchEmiJUb6ym+i3X63pyHoHpAVJz7Kscip5//nnuuusuFi1axNSpU0lLszHNTc+0tLTw1ltvsXDhQoBDDhhJuVYhIjeKyEYR2SAiT4hIpohMFJHXRGSriPxWRNJd3gw3vdXNn5CMMidbtCVKcH2QHUt2EFofIntcNuPOH8fIj4+0QDGE3X///SxatIjp06dboDC9kpaWxvTp01m0aBH333//IS/f78FCREqB64EyVT0G8AEXAz8E7lbVI4AgcIVb5Aog6NLvdvmGDY0o1Zuq2bFkB8HVQTKLMyn9dCklJ5WQlm87j6Fu586dTJ06NdnFMEPI1KlT2blz5yEvl6xD0lQgS0RagGxgJ3AqcImb/yhwG/Bz4Dz3GuBp4GciIqqq/Vng/qZRpe7dOoJrvV7XmSWZlJxSQmZxZrKLZvpRNBq1MwrTp9LS0npU99XvZxaqWgn8GHgfL0hUA6uAkKq2umwVQGyQiFJgh1u21eUf0Z9l7k+qSv179VQsq2D3P3aTkpHCqNNHMfqs0RYojOlAc3MzF110EYFAgKKiIgByc3P517/+leSSDR3JuAwVwDtbmAiMAXKAT/bBeq8SkZUisnL37t29XV2/U1UaPmjggz9/wEcvfQRA8fxiSs8tJbs023pemwFr/vz5ZGRkkJubS25uLkcccQT33HNPn61fRHj11Vc7zfP000/z+uuvU1lZyZ49ewCoq6vj4x//OAAvvfQSqalWt9cbyfj0Tge2qepuABFZApwA+EUk1Z09jAUqXf5KYBxQISKpQAGwt+1KVfVB4EGAsrKyPr1EtbS8MqFDpzbubqRqdRWNHzaSmpPKyE+MJHdSrvW6NoPGt7/9bb71rW8BsGLFCk477TSmTZvGGWec0S/v/+677zJp0iSys7P75f2Go2QEi/eBuSKSDYSB04CVwIvAhcCTwOXAH1z+ZW76X27+3/qzvmJpeSU3L1lPuCUCQGUozM1L1gP0OmA0B12v6x0N+DJ9jJgzgvwj8xGfBQlzsD2v76G5qrlf3iu9MJ2iOUU9Wnbu3LkcffTRrF+/fl+w2Lt3L1/72td4/vnnaWxs5JRTTuGnP/0pJSUlANx3333cfffd7Nmzh/z8fC6//HJ+8IMfMGPGDMBr5pmSksLFF1/Mww8/fMD7XXfddTz44INEo1Fyc3O58MILWbx4MSLCK6+8wuGHH87ZZ59NJBIhNzcX8FqZXX755T39eIalfg8WqvqaiDwNrAZagXK8M4I/A0+KyPdd2i/dIr8EfiUiW4EqvJZT/WbRc5v3BYqYcEuERc9t7nGwaKlpIbjW63WdkpZCYFaAgqkFpKRZr2szuKkq//znP9m0adO+S0Cqyvnnn8+UKVPYsGEDaWlpfPnLX+aSSy7hhRde4O233+amm27ijTfeYNq0aYRCITZt2gTA2rVrERGef/55TjzxxHbf82c/+xlFRUW8+uqr/PWvfz1o/pgxY3jmmWc4/fTTqaurS9zGD3FJuYinqrcCt7ZJfheY007eRuA/+6Nc7fkgFD6k9M60NrQSXBukdkstkiL4j/FTcEwBvgzrdW261tMj/f5w++238+Mf/5jm5mbC4TBXX301c+Z4f+dVq1axatUq/vrXv5KR4Q209aMf/YiioiIqKipITU1FVdm4cSPjx4/H7/czd+7cZG6OaYcdynZhjL/9AYI6Sm9PpDHC3pV72bFkB7Vbask/Mp9xF4yj8LhCCxRmSPjmN79JKBSioaGBHTt28Oabb/KFL3wBgG3bttHU1ERJSQl+vx+/38+kSZPIzMzk/fff5/DDD+fxxx/noYceYsyYMZx44ok8//zzSd4i05YFiy4sPGsKWWkH7tCz0nwsPGtKl8tGW6IE1wZ5f8n7VG+sJmd8DuP+fRxFc4tIzbaWGWZoGjt2LJ/5zGdYsmQJAOPHjycnJ4eqqipCodC+Rzgc5hOf+AQAF1xwAcuXL2fPnj185jOf4bzzzqOhoQGgT1oCpqTYrq637BPswvmzSrnjgmMp9WchQKk/izsuOLbT+opoJEr1m9W8v+R9gmuCZI3KYuy/jaV4XjFpedbBygxtH374IU899dS+yumysjJmzJjB9ddfz969XkPG3bt38+STTwKwefNmnn32WRoaGkhLS6OgoAAR2beDHzVqFFu2bOlVmUaNGkUkEmHbtm29Ws9wZsGiG86fVco/bjqVbXeeyz9uOrXDQKFRpWZLDTv+bwd739hLRiCDMeeMYdSpo0gPpPdzqY3pP9/73vf29bOYMWMGJSUl/OY3vwG8o/o//OEPqCrHHXcceXl5zJ07l5deegnwOtR997vfZfTo0fj9fu677z5+//vfk5npdUK9/fbbueWWWwgEAlx99dU9Kt+RRx7Jl770JebMmYPf7+dXv/pVn2z3cCJD8a4ZZWVlunLlyn57v1iv62B5kJaaFjKKMiicXUjW6O7XaxjTnrKyMvrzt2yGh45+VyKySlXL2lvGLpz3gqoSrgxTVV5Fc1Uzaf40Sk4pIXuc9bg2xgwtFix6qPEj1+t6VyOpuamMPHEkuROt17UxZmiyYHGImqqaqFpdRbgyjC/LR9HxReRNzrNe18aYIc2CRTc1VzcTXBOkfns9KekpFB5XSP5R+aSkWhsBY8zQZ8GiC631rtf11lrEJ/in+ymYVoAv3TrTGWOGDwsWHYg0RgitD1GzqQZFyT8qH/+xflKz7CMzxgw/tudrI9ocJfRmiOqN1WhEyZuUh3+Gn7Rc60xnjBm+LFjEaalpofIvlUSbouSMzyEwK0B6gXWmM8YYCxZxUvNSyZ2YS94ReWSMyEh2cYwxA9SVV15Ja2srixcvTnZR+o015YkjIhQdX2SBwphDED+sakFBATNnzuSpp55KdrEGrK1bt3L66aeTk5PD2LFjueuuuzrNP23atH23UsnNzSUrKwsRYfXq1YA3ZKyIHJAndoPGvmTBwhjTa9/+9repq6tj7969LFiwgEsuuYStW7cmu1hdamlp6df3i0QifPrTn2bq1Kns3r2bZcuW8cMf/pDf/va3HS6zceNG6urq9j2++tWvcvTRRzN79ux9eXw+3wF5/vnPf/Z52S1YGDNELS2v5IQ7/8bEm/7MCXf+jaXllV0v1Eupqal88YtfpLW1lTVr1rSb58knn2Tq1Knk5eVRUlJywPCmW7ZsYf78+eTl5TFjxgzuueeeA26dM3/+fL7//e8fsD4R4dVXXwW8kfVOPvlkioqKCAQCnH322bzzzjv78i5YsIBLL72UBQsWUFhYyPXXXw/A0qVLOe644/D7/UydOpXHH3/8gPd45JFHmDRpEvn5+Vx22WU0Njb26PN5+eWXee+997jjjjvIzs5m9uzZXH311fziF7/o1vKtra088sgjPb6hYm9YsDBmCIqNHV8ZCqPsHzs+0QGjubmZn//854B3p9e2GhoauOyyy7j//vupra3l3Xff5corrwS8HeGnPvUppk2bxq5du3j66ae7vRONERFuu+02Kisr2b59O7m5uXz2s589IM9TTz3F2Wefze7du7nrrrtYvnw5V1xxBffccw9VVVU8+uijXHfddbz88ssAvPLKK1x77bX84he/oKqqijPOOOOgM4Hp06fvG9ipvUd8MDvyyCP3jQUOMHv2bNauXdut7Vu6dCnV1dV87nOfOyA9Eokwbtw4Ro0axbnnntvt9R0KCxZtJONozJi+1tnY8Ylw++234/f7ycrK4lvf+hYPP/ww06dPbzdvWloamzZtoqqqipycHObNmwfAa6+9xvbt21m0aBFZWVlMnjyZ//7v/z6kckyfPp1TTjmFjIwMCgoKuPXWW1mxYsW+gZQATjzxRC666CJ8Ph/Z2dnce++93HDDDcybN4+UlBTmzJnDZz/7WR577DEAHnvsMS688ELOOOMMUlNT+dznPrdvyNiYdevWHTCwU9tHbPzw2tpaCgoKDljW7/dTU1PTre174IEHuOiii/D7/fvSjjrqKNasWcO2bdvYtGkT06dP59RTT+WDDz44pM+uKxYs4iTraMyYvtaXY8d3R2xY1T179nDOOefw4osvAgdWzv7gBz8gOzubv/zlLzz77LNMmjSJ4447bt+4FxUVFRQXF5Odnb1vvRMnTjykcrzzzjtccMEFlJaWkp+fzwknnAB4gy3FTJgw4YBltm3bxg9/+MMDzgQWL168b2dbUVFx0DKHWq6YvLw8qqurD0gLhULk5+d3uew777zDCy+8wDXXXHNA+qhRo5gxYwapqan4/X7uuOMOCgsLeeaZZ3pUxo5Y09k4nR2NdTYynjEDzRh/FpXtBIZDGTu+JwKBAA8//DCTJk3iD3/4Axs3bjwoz/z585k/fz6RSIRly5bxH//xHxx//PGUlpaya9cuGhoa9gWM7du3H7BsXl4e9fX1+6bbHj1fc801jBkzhnXr1jFixAg2bNjAscceS/y4PW2HWB0/fjwLFixg4cKF7W5TaWnpQeXYvn07RxxxxL7padOm8d5773X4uTzzzDPMmzePGTNm8Pbbb1NfX09OTg4A5eXl+0YV7MwDDzzAjBkzOP7447vMm5KSQl+PVWRnFnH6+2jMmETpzdjxvVVYWMhXv/pVvvGNbxCNRg+Y99FHH/H73/+e6upqfD7fvsspPp+PuXPnMn78eL7+9a8TDod55513+MlPfnLA8scddxxLly5l9+7d1NbW8s1vfvOA+TU1NeTk5OD3+9mzZw+33HJLl+X9yle+wt13380rr7xCJBKhubmZVatW7Rsc6LLLLuPpp5/mhRdeoLW1lV//+te89tprB6yjbYulto/YpbaTTjqJ8ePH841vfINwOMyaNWt44IEHuqywbm5uZvHixQedVQD87W9/Y+vWrUSjUerq6rjtttv46KOPOOuss7rc9kORlGAhIn4ReVpENonIWyLycREpFJHlIrLFPQdcXhGR+0Rkq4isE5HZXa2/pzo66kr00Zgxfa0nY8f3pRtuuIGdO3fuu+4fE41Guf/++5kwYQJ5eXlce+21PProo0yYMIHU1FSWLVvGunXrKC4u5oILLuCqq646YPkbb7yRqVOnMmnSJGbOnMm55557wPzYTj8/P5958+bxqU99qsuynnnmmTz00EMsXLiQoqIiRo8ezY033khdXR0AJ598Mj/96U+58sorKSws5Nlnn+Wiiy7q0efi8/n44x//yIYNGxgxYgTnnHMOCxcu5OKLL96X5+yzzz4oKCxZsoTGxkYuvfTSg9a5du1aTjvtNPLy8jj88MNZsWIFy5cvZ9y4cT0qY0eSMqyqiDwKvKKqD4tIOpANfAOoUtU7ReQmIKCqXxeRc4AvA+cAxwP3qmqn52E9HVb1W0vX8/iK94n/RLLSfP36JzMm3nAfVvXVV19l3rx5fX5JZbjrybCq/X5mISIFwEnALwFUtVlVQ8B5wKMu26PA+e71ecBj6lkB+EVkdF+Xa2l5Jb9fVXlAoBDgP44rtUBhjBn2knEZaiKwG/h/IlIuIg+LSA5Qoqo7XZ4PgRL3uhTYEbd8hUs7gIhcJSIrRWRlfMuH7mqvcluBFzcd+rqMMWaoSUawSAVmAz9X1VlAPXBTfAb1zjkP6bxTVR9U1TJVLRs5cuQhF8oqt40ZeE488US7BDVAJCNYVAAVqhprTvA0XvD4KHZ5yT3vcvMrgfiamrEurU9Z5bYZiHw+H01NTckuhhlCmpqa8PkOfaTPfg8WqvohsENEYm34TgPeBJYBsZvEXA78wb1eBnzOtYqaC1THXa7qM8lsamhMR+bMmcPNN99MRUUFkUik6wWM6UAkEqGiooKbb775oB7o3ZGsTnlfBh53LaHeBT6PF7h+JyJXAO8Bn3F5/4LXEmor0ODy9rlYJfai5zbzQSjMGH8WC8+aYpXbJqnuuusuHn74Ya644gqCweBB/RaM6a6UlBQCgQDnnXfevvtxHYqkNJ1NtJ42nTXGmOFsQDWdNcYYM/hYsDDGGNMlCxbGGGO6ZMHCGGNMlyxYGGOM6dKQbA0lIrvxmt+2pwjY04/FSQbbxqFhOGwjDI/tHCzbOF5V270FxpAMFp0RkZUdNQ0bKmwbh4bhsI0wPLZzKGyjXYYyxhjTJQsWxhhjujQcg8WDyS5AP7BtHBqGwzbC8NjOQb+Nw67OwhhjzKEbjmcWxhhjDpEFC2OMMV0aNsFCRD4pIptFZKuI3NT1EoOPiDwiIrtEZEOyy5IoIjJORF4UkTdFZKOI3JDsMvU1EckUkddFZK3bxu8ku0yJIiI+N7zyn5JdlkQQke0isl5E1ojIoL4V9rCosxARH/A2cAbeSH1vAP+lqm8mtWB9TEROAuqAx1T1mGSXJxHcKIqjVXW1iOQBq4Dzh9J3KSIC5KhqnYikAa8CN6jqiiQXrc+JyFeBMiBfVT+V7PL0NRHZDpSp6mDokNep4XJmMQfYqqrvqmoz8CRwXpLL1OdU9WWgKtnlSCRV3amqq93rWuAtYEiNUKWeOjeZ5h5D7qhORMYC5wIPJ7sspmvDJViUAjvipisYYjuY4UhEJgCzgNc6zzn4uMsza/DGol8eN2b9UHIP8DVgKA//p8DzIrJKRK5KdmF6Y7gECzPEiEgu8HvgK6pak+zy9DVVjajqTGAsMEdEhtRlRRH5FLBLVVcluywJdqKqzgbOBq51l4oHpeESLCqBcXHTY12aGYTcdfzfA4+r6pJklyeRVDUEvAh8Mtll6WMnAP/mruk/CZwqIr9ObpH6nqpWuuddwP/hXRIflIZLsHgDmCwiE0UkHbgYWJbkMpkecJW/vwTeUtWfJLs8iSAiI0XE715n4TXM2JTcUvUtVb1ZVceq6gS8/+PfVPWzSS5WnxKRHNcIAxHJAc4EBm1LxWERLFS1FbgOeA6vQvR3qroxuaXqeyLyBPAvYIqIVIjIFckuUwKcAFyGdyS6xj3OSXah+tho4EURWYd3oLNcVYdk09IhrgR4VUTWAq8Df1bVZ5Ncph4bFk1njTHG9M6wOLMwxhjTOxYsjDHGdMmChTHGmC5ZsDDGGNMlCxbGGDPIHepNREXkM3E34/xNd5axYJEEIjIirtnnhyJSGTednuzy9YTrG/Cau4PovCSWY4GI/KyLPPNF5BM9WPd2ESnqeek6XO/DInJ0D5abeSjNhkVkQm/uSCwiaSJyp4hsEZHVIvIvETnbzavrYJlrRORzPX3PNuv6Z1+sp6P1xn8+7jfyJ/f63wbBnaoX082OmyIyGbgZOEFVpwFf6c5yqT0umukxVd0LzAQQkduAOlX9cVfLiUiq6zPSb0TEp6qRbmQ9DVivqlcmukx9YD7e3XkTsvNpT2ffXS8+s5l4d2z96RLERgAAB7xJREFUS48Ldmi+h9cH5BhVbRKREuDkzhZQ1V/01Zur6iEH+L5Yr6ouY4B34lXVl9290vYRkUnA/cBIoAH4oqpuAr4I3K+qQbfsru68h51ZDBAislhELoybrnPP80XkFRFZBrzppl8SkadFZJOIPO56NSMip7kj+/XutDRDvHE8nopbb/wR05nu6HC1iDzl7rcUO4L+oYisBv6zTTkniMjfRGSdiLwgIoeJyEzgR8B57uwoq80yHxORf4o3PsPrIpIn3pgN/8+VtVxETnF5F4jIUhFZ7spxnYh81eVZISKFLt9LInKve78NInLQbRTc2c7vReQN9zjB/aGuAW50y85rL59bfoSIPO9O1R8GpIPvrk5E7nb5XhCRkXFlvEe8cQxuaO/7ictX1sV30vYzLAC+C1zktuMiETlZ9p+hlovrPdxGqvvNvOV+Q9kicqqI/P/2zja0qyoM4L9nzhJRKzLCD81JNS3QQhMUx/BDERXal0R8Cad98YtGqRUkYmCUHzIy02ikSy2tlc1Usgyck4WkZbG0HKJmYoj0Ml9y82VPH57n7+6u9/5fYm4Tzg8uO/f8n3Pvc17ued9zaiPxeUREPo/FsS9WycxR1VYAVT2lqp9EZF51/fZ4Q4KILBaR+ZF4LnX9m8RHoF6mdnucf5CUUZ90/CYSv4GYfJ3nyz6P72gR2SQ2MloSf24aEhmtJpV/968WkeWeR0fEv2URGSQi9ZFy2pWj7vew/BoFzAdWun8ZUCYiDZ5X+ZmSUdVwdeMFLPaMrAaeivif87/jgfPAkMh9M2bfqgj7j+1yoA9mWbfM5dZiw8ti4Dh2PgLAKmA6MBCoj/i/CCxy9zHghRR9twAz3D0LqHV3JbAiQf4m4Agw2u8HuE7zgNXuN8x17OPPOQz0x3pEzcBsl3sTMxwIUAdUubsC+DmuB/ARZsgNoAQzEXI1zSM6psktj6TJE5gF0YEJcVRgmrsXRd5fB6x0d2L+ROQeSsuTLGnYIc09b8a5ux9QHNOz1HXNyKzGyp5g5kTuiKTHhFjYEcD+LOVYM2GwjsPCeFp7PN9w9+PAN+7uC/Rx973AvpR3RL+Ja76BBPk6YKm7nwVOYiOjmzHL07fHnltKezkaD2xNKFNp5b8aqHF97seORAAr5y+7uxfQ/zrWJVH9+wEXgB8jV6Zcb8XsVPUGhmDl8tZczw8jixuD71T1aOz+hKq2YYWgFBgKHFXVJpf5AKhQm/rYDkwQkWKs0tsMjMEKdYOYKewZwODIOz5O0WUsVpkArMMaqmwMBf5Q1b0AqnrGdSoH1rvfr8BvWI8HYKeqnlXV01ilsMX9Gz2uGTZ4+HpggLg9pQgPAys8fl+4TL8EHdPkKiI6bgP+ToljG+3ptZ6OaZLxT8yf2HPS8iQtDeM0AMtEZC728SfJ/K6qDVFd1WqQdcB0T8OxwJcpcU3jIlYJgR1IVZoitylBpjdQJSKNWIWbz/pN0jeQRGb6qBE4oHYeSivW+N6VEiYb2cp/raq2qR3Edaf77QVmik03D1c7g6UrKAL+UdUHI9d9/tsJ4AtVveT1ShPWSGclrFn0HC7j04IiUoT1JjOcj8m2RtxXyJ2PGzHbWH9hvbazPmzfoapTUsLE39mVROPXFrlvo2Nc47Zq4vdFwBhVbYl6JsxY5CuXL1E9CknHxDwRkeF5vVT1dRHZhvXaG0TkUW+I03SL3q/BGuUWoCahoTkMlIjIAE02CX/JGx3IXiZbE2SeA04BD2B50ZIQLu05+b4vWo4y951d/0WfL3B1LaEC66RVi8gyVV3bye+9BlU9IyJHRWSSqtb49z5CVX8CaoEpwBqxDRtlWOOZlTCy6DkcA0a5eyLW2yqEQ0CpiNzj908Du9y9CxiJzTlvdL89wLiMvJiFzDJy8y1mJRRgGrA7D70Gichof09/H+Hs9vD4e0tcthAme/hyoFlVm2O/fw3MydyIra0AnMWmuXLJ1QNT3e8x4LYUPYqAzHrTVOwY1DjZ8idDWp6kpWGHeIjI3araqKpLsR7tsAQ9SkRkbFxXVT2JTdMsxBqODqjqv5i137fEd+yJrfVMisv+D27BRk5tWLr06oRnXi8KKv8iMhg4papV2ImAI6+HUpJsRHQa8IyYIcMDtJ8O+hXwp4gcxMzfL1DbdJOVMLLoOVQBmz1jt1Ngz15VW0RkJlDjFcle4F3/7YrYonYlNrWBqp4WkUpgg/hCK1ZRNMWfHWMO1iNZAJwGZubQ66KITAbeFlv4voBN+6wEVvnUw2WgUm2HTSHRbhGR/VjDOivh97nAO2LWW4uxyn821oP+VESe9Pikyb2Cpc8BrJI4nqLHeeyAooXYyXaTE9IhNX/aRZLzRFWbUtJwJ/CST1m9BpSLbRRowyqHpKmkQ9ghPKuBg9gaVoYPsXWLX1LiuRBYgm20aPF4L0qRLYSVwGdiW2wLLvtdTEHlH1v7WCAil7AdeJ2yjThOlhmCaxavfQT4vF95E6zOBm5IRKQOWzjd1wN0OaeqSWsh+YZvBCbG1qW6HN/xs19V3+9OPQI9kzCyCAS6ERHZgf1/Snc3FN9jPfp53alHoOcSRhaBQCAQyElY4A4EAoFATkJjEQgEAoGchMYiEAgEAjkJjUUgEAgEchIai0AgEAjk5D+QCWVOT1OCeQAAAABJRU5ErkJggg==\n",
            "text/plain": [
              "<Figure size 432x288 with 1 Axes>"
            ]
          },
          "metadata": {
            "needs_background": "light"
          }
        }
      ]
    },
    {
      "cell_type": "code",
      "source": [
        ""
      ],
      "metadata": {
        "id": "4lcl7fye_dgW"
      },
      "execution_count": null,
      "outputs": []
    }
  ]
}
