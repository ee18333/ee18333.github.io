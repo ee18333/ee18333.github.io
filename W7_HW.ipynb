{
  "nbformat": 4,
  "nbformat_minor": 0,
  "metadata": {
    "colab": {
      "name": "W7 HW.ipynb",
      "provenance": [],
      "collapsed_sections": []
    },
    "kernelspec": {
      "name": "python3",
      "display_name": "Python 3"
    },
    "language_info": {
      "name": "python"
    }
  },
  "cells": [
    {
      "cell_type": "markdown",
      "metadata": {
        "id": "Uy7B-BY-1ifU"
      },
      "source": [
        "https://en.wikipedia.org/wiki/Africa%E2%80%93China_economic_relations#"
      ]
    },
    {
      "cell_type": "code",
      "metadata": {
        "id": "61lhDRw7YB-Y"
      },
      "source": [
        "import numpy as np\n",
        "import pandas as pd\n",
        "import requests\n",
        "from bs4 import BeautifulSoup\n",
        "import os"
      ],
      "execution_count": null,
      "outputs": []
    },
    {
      "cell_type": "code",
      "metadata": {
        "id": "ugh27287YSNZ"
      },
      "source": [
        "URL = \"https://en.wikipedia.org/wiki/Africa%E2%80%93China_economic_relations\"\n",
        "html = requests.get(URL)\n",
        "soup = BeautifulSoup(html.content, 'html.parser')"
      ],
      "execution_count": null,
      "outputs": []
    },
    {
      "cell_type": "code",
      "metadata": {
        "id": "7eUXfqZjeTSO"
      },
      "source": [
        "soup"
      ],
      "execution_count": null,
      "outputs": []
    },
    {
      "cell_type": "code",
      "metadata": {
        "id": "wO4ha5eSeXlB"
      },
      "source": [
        "tables=pd.read_html('https://en.wikipedia.org/wiki/Africa%E2%80%93China_economic_relations')"
      ],
      "execution_count": null,
      "outputs": []
    },
    {
      "cell_type": "code",
      "metadata": {
        "id": "IiDk6HPZehP5"
      },
      "source": [
        "tables[3]"
      ],
      "execution_count": null,
      "outputs": []
    },
    {
      "cell_type": "code",
      "metadata": {
        "id": "vqZVeQ97eljp"
      },
      "source": [
        "df=tables[3]"
      ],
      "execution_count": null,
      "outputs": []
    },
    {
      "cell_type": "code",
      "metadata": {
        "id": "MAMw4jx3Jy7u"
      },
      "source": [
        "df.head(5)"
      ],
      "execution_count": null,
      "outputs": []
    },
    {
      "cell_type": "code",
      "metadata": {
        "id": "XyM-nUm8KJR_"
      },
      "source": [
        "df.columns=['Year','World','Africa','Chinese trade in US$ billions to Africa as a percentage of the world']"
      ],
      "execution_count": null,
      "outputs": []
    },
    {
      "cell_type": "code",
      "metadata": {
        "colab": {
          "base_uri": "https://localhost:8080/"
        },
        "id": "Cpe6nhTE5-f4",
        "outputId": "e88d64a9-7b58-453f-df37-12b7d21c1302"
      },
      "source": [
        "df['Chinese trade in US$ billions to Africa as a percentage of the world'].str.replace('%','')"
      ],
      "execution_count": null,
      "outputs": [
        {
          "output_type": "execute_result",
          "data": {
            "text/plain": [
              "0     1.9\n",
              "1    2.17\n",
              "2    2.74\n",
              "3    3.12\n",
              "4    3.38\n",
              "5       ?\n",
              "Name: Chinese trade in US$ billions to Africa as a percentage of the world, dtype: object"
            ]
          },
          "metadata": {},
          "execution_count": 20
        }
      ]
    },
    {
      "cell_type": "code",
      "metadata": {
        "id": "oopUkByn6LTh"
      },
      "source": [
        "df['Chinese trade in US$ billions to Africa as a percentage of the world']=df['Chinese trade in US$ billions to Africa as a percentage of the world'].str.replace('%','')"
      ],
      "execution_count": null,
      "outputs": []
    },
    {
      "cell_type": "code",
      "metadata": {
        "colab": {
          "base_uri": "https://localhost:8080/",
          "height": 203
        },
        "id": "cb7BF6PU1aWt",
        "outputId": "b7936a62-971a-457a-c127-e656169704fb"
      },
      "source": [
        "df.head(5)"
      ],
      "execution_count": null,
      "outputs": [
        {
          "output_type": "execute_result",
          "data": {
            "text/html": [
              "<div>\n",
              "<style scoped>\n",
              "    .dataframe tbody tr th:only-of-type {\n",
              "        vertical-align: middle;\n",
              "    }\n",
              "\n",
              "    .dataframe tbody tr th {\n",
              "        vertical-align: top;\n",
              "    }\n",
              "\n",
              "    .dataframe thead th {\n",
              "        text-align: right;\n",
              "    }\n",
              "</style>\n",
              "<table border=\"1\" class=\"dataframe\">\n",
              "  <thead>\n",
              "    <tr style=\"text-align: right;\">\n",
              "      <th></th>\n",
              "      <th>Year</th>\n",
              "      <th>World</th>\n",
              "      <th>Africa</th>\n",
              "      <th>Chinese trade in US$ billions to Africa as a percentage of the world</th>\n",
              "    </tr>\n",
              "  </thead>\n",
              "  <tbody>\n",
              "    <tr>\n",
              "      <th>0</th>\n",
              "      <td>2002</td>\n",
              "      <td>620.8</td>\n",
              "      <td>12</td>\n",
              "      <td>1.9</td>\n",
              "    </tr>\n",
              "    <tr>\n",
              "      <th>1</th>\n",
              "      <td>2003[27]</td>\n",
              "      <td>851.2</td>\n",
              "      <td>18.48</td>\n",
              "      <td>2.17</td>\n",
              "    </tr>\n",
              "    <tr>\n",
              "      <th>2</th>\n",
              "      <td>2005</td>\n",
              "      <td>1422</td>\n",
              "      <td>39</td>\n",
              "      <td>2.74</td>\n",
              "    </tr>\n",
              "    <tr>\n",
              "      <th>3</th>\n",
              "      <td>2006</td>\n",
              "      <td>1760.6</td>\n",
              "      <td>55</td>\n",
              "      <td>3.12</td>\n",
              "    </tr>\n",
              "    <tr>\n",
              "      <th>4</th>\n",
              "      <td>2007</td>\n",
              "      <td>2173.8</td>\n",
              "      <td>73.6</td>\n",
              "      <td>3.38</td>\n",
              "    </tr>\n",
              "  </tbody>\n",
              "</table>\n",
              "</div>"
            ],
            "text/plain": [
              "       Year  ... Chinese trade in US$ billions to Africa as a percentage of the world\n",
              "0      2002  ...                                                1.9                  \n",
              "1  2003[27]  ...                                               2.17                  \n",
              "2      2005  ...                                               2.74                  \n",
              "3      2006  ...                                               3.12                  \n",
              "4      2007  ...                                               3.38                  \n",
              "\n",
              "[5 rows x 4 columns]"
            ]
          },
          "metadata": {},
          "execution_count": 24
        }
      ]
    },
    {
      "cell_type": "code",
      "metadata": {
        "id": "gp9gp_eTL216"
      },
      "source": [
        "df.to_csv('africa.csv')"
      ],
      "execution_count": null,
      "outputs": []
    },
    {
      "cell_type": "code",
      "metadata": {
        "id": "R0dL3bBjMLIq"
      },
      "source": [
        ""
      ],
      "execution_count": null,
      "outputs": []
    }
  ]
}